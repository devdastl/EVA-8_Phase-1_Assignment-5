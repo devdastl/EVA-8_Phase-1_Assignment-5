{
  "cells": [
    {
      "cell_type": "markdown",
      "metadata": {
        "id": "view-in-github",
        "colab_type": "text"
      },
      "source": [
        "<a href=\"https://colab.research.google.com/github/devdastl/EVA-8_Phase-1_Assignment-5/blob/main/EVA_assignment_5.ipynb\" target=\"_parent\"><img src=\"https://colab.research.google.com/assets/colab-badge.svg\" alt=\"Open In Colab\"/></a>"
      ]
    },
    {
      "cell_type": "markdown",
      "source": [
        "##Clone assignemnt to setup python files\n",
        "Here we will be cloning our repo and setting up correct directory such that this colab notebook can access our defined python classes.\n",
        "\n",
        "In this way even if runtime deletes the data, we can again git clone it and by running below cell."
      ],
      "metadata": {
        "id": "o1y5t-8CkVdh"
      }
    },
    {
      "cell_type": "code",
      "source": [
        "import os\n",
        "!git clone https://github.com/devdastl/EVA-8_Phase-1_Assignment-5.git\n",
        "os.chdir('EVA-8_Phase-1_Assignment-5')\n",
        "!rm EVA_assignment-5.ipynb"
      ],
      "metadata": {
        "id": "KVMF09iskUCc",
        "colab": {
          "base_uri": "https://localhost:8080/"
        },
        "outputId": "eb0b3fef-5cf2-4e47-ccf6-83c670d34f73"
      },
      "execution_count": 2,
      "outputs": [
        {
          "output_type": "stream",
          "name": "stdout",
          "text": [
            "Cloning into 'EVA-8_Phase-1_Assignment-5'...\n",
            "remote: Enumerating objects: 25, done.\u001b[K\n",
            "remote: Counting objects: 100% (25/25), done.\u001b[K\n",
            "remote: Compressing objects: 100% (16/16), done.\u001b[K\n",
            "remote: Total 25 (delta 7), reused 22 (delta 7), pack-reused 0\u001b[K\n",
            "Unpacking objects: 100% (25/25), 9.22 KiB | 1.54 MiB/s, done.\n"
          ]
        }
      ]
    },
    {
      "cell_type": "markdown",
      "metadata": {
        "id": "aO-7t1Y7-hV4"
      },
      "source": [
        "## Import required libraries for pytorch\n",
        "Cell to import python based libraries"
      ]
    },
    {
      "cell_type": "code",
      "execution_count": 3,
      "metadata": {
        "id": "8kH16rnZ7wt_"
      },
      "outputs": [],
      "source": [
        "from __future__ import print_function\n",
        "import torch\n",
        "import torch.nn as nn\n",
        "import torch.nn.functional as F\n",
        "import torch.optim as optim\n",
        "from torchvision import datasets, transforms"
      ]
    },
    {
      "cell_type": "markdown",
      "source": [
        "##Data preperation\n",
        "Here we are calling our custom Dataset class from `components/data.py` python file.\n",
        "This class takes following arguments:\n",
        "1. Dataset Name in `string` - Specify which dataset needs to be downloaded which are available in torchvision ex- 'MNIST', 'ImageNet'. For all supported dataset [view this](https://pytorch.org/vision/stable/datasets.html).\n",
        "2. transforms - custom `Dataset` class takes transforms as arguments, you can specify `train_transform` and `test_transform` in `components/transform.py`.\n",
        "3. train `bool` - this state either the dataset is for training or testing. Here we have two instance of `Dataset` one for train and other for test.\n",
        "4. batch_size - custom `Dataset` class also has functionality to return dataloader as an attribute. Hence we can set batch size for that loader. "
      ],
      "metadata": {
        "id": "p3yt1CFBmAW0"
      }
    },
    {
      "cell_type": "code",
      "source": [
        "from components.data import Dataset\n",
        "from components.transform import train_transforms, test_transforms\n",
        "\n",
        "my_mnist_train = Dataset('MNIST', transform=train_transforms, train=True, batch_size=64)\n",
        "my_mnist_test = Dataset('MNIST', transform=test_transforms, train=False, batch_size=64)\n"
      ],
      "metadata": {
        "colab": {
          "base_uri": "https://localhost:8080/",
          "height": 423,
          "referenced_widgets": [
            "327b7b2cd7f8482fbbaa00a29cc3a2a1",
            "e788a9a6598c485585d75158e8fcf746",
            "65a1762beab649efba3633136282c4b1",
            "d2fea4f257f1475d8e9b0bb3181dbf63",
            "f5659898a97b474b934bf2eb88fb0f73",
            "a5287d57f77f4710bcd560a2e54bc055",
            "ec1dabc06aa7488b96e9ac43bcdf46cb",
            "51b8d3013cda4cf8984398e2e84d46e7",
            "622040766cf74e09ade809ab23b199eb",
            "a9436a9f00c741f6a0c620c359a2aaaf",
            "d1682af5d47541d49cbbff20b6ef18f8",
            "08db579fc2d34563b0c88a053ffa1caf",
            "10762c2c368e400cb96a04b0fb6cb061",
            "86693b84efc44d438707d8dc76a4cd8a",
            "0e83647bfd2e4cc589572fd35d6ac958",
            "a09f3c27eb7b4904b8b142807cfd39f4",
            "5c70fc9e8cbf4c6bb0ce85a286ede334",
            "501b410cbe964eeca10d9a20d8ec7c55",
            "4d98e2db0a9b4324b9759e9a078d5a94",
            "ac6541c1d08d4895a2c0f5192e66a43b",
            "5a0eb36b3f1e42c7ace6f6467f462d0b",
            "0a521c4bc35c4e9a9feaeeb18e7a4120",
            "05caaab0ff5e4b52af735f1c3fd85bc9",
            "03a518661b274ca0a2eec8bac1817aed",
            "ef934b8e02094984aaa9d6fb7165a084",
            "bff453b6bbac41f9a5428be76672f36e",
            "5d57779984e24437970643f0711c85c5",
            "ea900911baf84776aad90ae3e99094d7",
            "f2bffd1b540f4f17b2373d245054cf6e",
            "fe50bff41ead49ccb808d3c4cf206c69",
            "b6dbe1aeb8d945ad9eb3a95793731442",
            "6e34841a33f64e5f95218d49bc557e11",
            "8a0c5bb7ae554accaef7594b561e642d",
            "cc51733037434abb8c5217d39db7f2c6",
            "8ccbda12e9ab40b38e651e71767c8c0d",
            "ae5947706de648b2a801ed0e6da0f2bf",
            "9cd5aaa44fd94dd1934d0a0e7620de14",
            "02ef1fb81f14423a8217a47e46ea7bdc",
            "01f2787af6c54393b3e3d172dc40b541",
            "77ddafafcb9d48f89dbe321ddc4e9d47",
            "45b8d4ba1fe44fe68bcec8d130b574fa",
            "35eac256a3174c49b0a4083bed1da594",
            "bab8af252e10493c83c70e84d1914f94",
            "7f077085a5f640aa9f6f1cca88f7c250"
          ]
        },
        "id": "TqZdMicA7Rw2",
        "outputId": "6d3dbcc5-9b20-4d38-982e-175200f06a77"
      },
      "execution_count": 4,
      "outputs": [
        {
          "output_type": "stream",
          "name": "stdout",
          "text": [
            "Downloading http://yann.lecun.com/exdb/mnist/train-images-idx3-ubyte.gz\n",
            "Downloading http://yann.lecun.com/exdb/mnist/train-images-idx3-ubyte.gz to ./data/MNIST/raw/train-images-idx3-ubyte.gz\n"
          ]
        },
        {
          "output_type": "display_data",
          "data": {
            "text/plain": [
              "  0%|          | 0/9912422 [00:00<?, ?it/s]"
            ],
            "application/vnd.jupyter.widget-view+json": {
              "version_major": 2,
              "version_minor": 0,
              "model_id": "327b7b2cd7f8482fbbaa00a29cc3a2a1"
            }
          },
          "metadata": {}
        },
        {
          "output_type": "stream",
          "name": "stdout",
          "text": [
            "Extracting ./data/MNIST/raw/train-images-idx3-ubyte.gz to ./data/MNIST/raw\n",
            "\n",
            "Downloading http://yann.lecun.com/exdb/mnist/train-labels-idx1-ubyte.gz\n",
            "Downloading http://yann.lecun.com/exdb/mnist/train-labels-idx1-ubyte.gz to ./data/MNIST/raw/train-labels-idx1-ubyte.gz\n"
          ]
        },
        {
          "output_type": "display_data",
          "data": {
            "text/plain": [
              "  0%|          | 0/28881 [00:00<?, ?it/s]"
            ],
            "application/vnd.jupyter.widget-view+json": {
              "version_major": 2,
              "version_minor": 0,
              "model_id": "08db579fc2d34563b0c88a053ffa1caf"
            }
          },
          "metadata": {}
        },
        {
          "output_type": "stream",
          "name": "stdout",
          "text": [
            "Extracting ./data/MNIST/raw/train-labels-idx1-ubyte.gz to ./data/MNIST/raw\n",
            "\n",
            "Downloading http://yann.lecun.com/exdb/mnist/t10k-images-idx3-ubyte.gz\n",
            "Downloading http://yann.lecun.com/exdb/mnist/t10k-images-idx3-ubyte.gz to ./data/MNIST/raw/t10k-images-idx3-ubyte.gz\n"
          ]
        },
        {
          "output_type": "display_data",
          "data": {
            "text/plain": [
              "  0%|          | 0/1648877 [00:00<?, ?it/s]"
            ],
            "application/vnd.jupyter.widget-view+json": {
              "version_major": 2,
              "version_minor": 0,
              "model_id": "05caaab0ff5e4b52af735f1c3fd85bc9"
            }
          },
          "metadata": {}
        },
        {
          "output_type": "stream",
          "name": "stdout",
          "text": [
            "Extracting ./data/MNIST/raw/t10k-images-idx3-ubyte.gz to ./data/MNIST/raw\n",
            "\n",
            "Downloading http://yann.lecun.com/exdb/mnist/t10k-labels-idx1-ubyte.gz\n",
            "Downloading http://yann.lecun.com/exdb/mnist/t10k-labels-idx1-ubyte.gz to ./data/MNIST/raw/t10k-labels-idx1-ubyte.gz\n"
          ]
        },
        {
          "output_type": "display_data",
          "data": {
            "text/plain": [
              "  0%|          | 0/4542 [00:00<?, ?it/s]"
            ],
            "application/vnd.jupyter.widget-view+json": {
              "version_major": 2,
              "version_minor": 0,
              "model_id": "cc51733037434abb8c5217d39db7f2c6"
            }
          },
          "metadata": {}
        },
        {
          "output_type": "stream",
          "name": "stdout",
          "text": [
            "Extracting ./data/MNIST/raw/t10k-labels-idx1-ubyte.gz to ./data/MNIST/raw\n",
            "\n"
          ]
        }
      ]
    },
    {
      "cell_type": "markdown",
      "source": [
        "##Data visualization\n",
        "visualization of the data we are working with:"
      ],
      "metadata": {
        "id": "vl_PETr33nRM"
      }
    },
    {
      "cell_type": "code",
      "source": [
        "#my_mnist_train.dataloader returns a dataloader\n",
        "dataiter = iter(my_mnist_train.dataloader)\n",
        "images, labels = next(dataiter)\n",
        "\n",
        "print(images.shape)\n",
        "print(labels.shape)\n",
        "\n",
        "# Let's visualize some of the images\n",
        "%matplotlib inline\n",
        "import matplotlib.pyplot as plt\n",
        "\n",
        "figure = plt.figure()\n",
        "num_of_images = 60\n",
        "for index in range(1, num_of_images + 1):\n",
        "    plt.subplot(6, 10, index)\n",
        "    plt.axis('off')\n",
        "    plt.imshow(images[index].numpy().squeeze(), cmap='gray_r')"
      ],
      "metadata": {
        "colab": {
          "base_uri": "https://localhost:8080/",
          "height": 281
        },
        "id": "G_XFhIO-3lHY",
        "outputId": "880717b8-d74b-49fd-8218-4cb700559bce"
      },
      "execution_count": 19,
      "outputs": [
        {
          "output_type": "stream",
          "name": "stdout",
          "text": [
            "torch.Size([64, 1, 28, 28])\n",
            "torch.Size([64])\n"
          ]
        },
        {
          "output_type": "display_data",
          "data": {
            "text/plain": [
              "<Figure size 432x288 with 60 Axes>"
            ],
            "image/png": "[encoded data removed]"
          },
          "metadata": {
            "needs_background": "light"
          }
        }
      ]
    },
    {
      "cell_type": "markdown",
      "source": [
        "##Model setup\n",
        "Here we call our custom class Net() from `components/model.py` python file.\n",
        "This file contains model architecture defination. Following are the arguments our custom `Net()` module takes:\n",
        "1. in_channel - no. of channels of input image. For RGB it is 3 and for grayscale it is 1.\n",
        "2. norm_type - Here we decide what kind of normalization is required in the model architecture. \n",
        "  - `\"batch\"` for performing batch normalization.\n",
        "  - `\"group\"` for perfroming group normalization.\n",
        "  - `\"layer\"` for performing layer normalization.\n",
        "\n",
        "  more information on normalization type is in github README.\n",
        "3. drop_out - rate at which you want to kill the neuron in each layer. `0.0` means no dropout.\n",
        "\n",
        "Using this custom module here we are creating three model instance:\n",
        "- `my_model1` for batch normalization.\n",
        "- `my_model2` for group normalization.\n",
        "- `my_model3` for layer normalization."
      ],
      "metadata": {
        "id": "E3DjhAbEmWCG"
      }
    },
    {
      "cell_type": "code",
      "source": [
        "from components.model import Net\n",
        "!pip install torchsummary\n",
        "from torchsummary import summary\n",
        "\n",
        "use_cuda = torch.cuda.is_available()\n",
        "device = torch.device(\"cuda\" if use_cuda else \"cpu\")\n",
        "print(device)\n",
        "\n",
        "my_model1 = Net(in_channel=1, norm_type=\"batch\", drop_out=0.0).to(device)\n",
        "my_model2 = Net(in_channel=1, norm_type=\"group\", drop_out=0.0).to(device)\n",
        "my_model3 = Net(in_channel=1, norm_type=\"layer\", drop_out=0.0).to(device)\n"
      ],
      "metadata": {
        "colab": {
          "base_uri": "https://localhost:8080/"
        },
        "id": "eAtAHdYAB-HC",
        "outputId": "98c14d2e-57f0-4de7-9218-6369e0787c6f"
      },
      "execution_count": 5,
      "outputs": [
        {
          "output_type": "stream",
          "name": "stdout",
          "text": [
            "Looking in indexes: https://pypi.org/simple, https://us-python.pkg.dev/colab-wheels/public/simple/\n",
            "Requirement already satisfied: torchsummary in /usr/local/lib/python3.8/dist-packages (1.5.1)\n",
            "cpu\n"
          ]
        }
      ]
    },
    {
      "cell_type": "markdown",
      "source": [
        "### Layer normalization setup\n",
        "We added elementwise-affine to False in layer-normalization layer to reduce the number of parameters."
      ],
      "metadata": {
        "id": "gHbguabn0Ojx"
      }
    },
    {
      "cell_type": "code",
      "source": [
        "#print model summary for all 3 models\n",
        "\n",
        "print(\"-----------------------------------model arcitecture with Batch normalization and L1 regularization------------------------\")\n",
        "summary(my_model1, input_size=(1,28, 28))\n",
        "print(\"-----------------------------------model arcitecture with Group normalization------------------------\")\n",
        "summary(my_model2, input_size=(1,28, 28))\n",
        "print(\"-----------------------------------model arcitecture with layer normalization------------------------\")\n",
        "summary(my_model3, input_size=(1,28, 28))"
      ],
      "metadata": {
        "id": "pAhWOeHhYV9n",
        "colab": {
          "base_uri": "https://localhost:8080/"
        },
        "outputId": "d1e4ab93-8177-4691-850b-74b2e8634050"
      },
      "execution_count": 6,
      "outputs": [
        {
          "output_type": "stream",
          "name": "stdout",
          "text": [
            "-----------------------------------model arcitecture with Batch normalization and L1 regularization------------------------\n",
            "----------------------------------------------------------------\n",
            "        Layer (type)               Output Shape         Param #\n",
            "================================================================\n",
            "            Conv2d-1           [-1, 10, 26, 26]              90\n",
            "       BatchNorm2d-2           [-1, 10, 26, 26]              20\n",
            "              ReLU-3           [-1, 10, 26, 26]               0\n",
            "           Dropout-4           [-1, 10, 26, 26]               0\n",
            "            Conv2d-5           [-1, 12, 24, 24]           1,080\n",
            "       BatchNorm2d-6           [-1, 12, 24, 24]              24\n",
            "              ReLU-7           [-1, 12, 24, 24]               0\n",
            "           Dropout-8           [-1, 12, 24, 24]               0\n",
            "            Conv2d-9           [-1, 14, 22, 22]           1,512\n",
            "      BatchNorm2d-10           [-1, 14, 22, 22]              28\n",
            "             ReLU-11           [-1, 14, 22, 22]               0\n",
            "          Dropout-12           [-1, 14, 22, 22]               0\n",
            "        MaxPool2d-13           [-1, 14, 11, 11]               0\n",
            "           Conv2d-14           [-1, 10, 11, 11]             140\n",
            "      BatchNorm2d-15           [-1, 10, 11, 11]              20\n",
            "             ReLU-16           [-1, 10, 11, 11]               0\n",
            "          Dropout-17           [-1, 10, 11, 11]               0\n",
            "           Conv2d-18             [-1, 14, 9, 9]           1,260\n",
            "      BatchNorm2d-19             [-1, 14, 9, 9]              28\n",
            "             ReLU-20             [-1, 14, 9, 9]               0\n",
            "          Dropout-21             [-1, 14, 9, 9]               0\n",
            "           Conv2d-22             [-1, 14, 7, 7]           1,764\n",
            "      BatchNorm2d-23             [-1, 14, 7, 7]              28\n",
            "             ReLU-24             [-1, 14, 7, 7]               0\n",
            "          Dropout-25             [-1, 14, 7, 7]               0\n",
            "           Conv2d-26             [-1, 14, 5, 5]           1,764\n",
            "      BatchNorm2d-27             [-1, 14, 5, 5]              28\n",
            "             ReLU-28             [-1, 14, 5, 5]               0\n",
            "          Dropout-29             [-1, 14, 5, 5]               0\n",
            "           Conv2d-30             [-1, 10, 5, 5]             140\n",
            "        AvgPool2d-31             [-1, 10, 1, 1]               0\n",
            "================================================================\n",
            "Total params: 7,926\n",
            "Trainable params: 7,926\n",
            "Non-trainable params: 0\n",
            "----------------------------------------------------------------\n",
            "Input size (MB): 0.00\n",
            "Forward/backward pass size (MB): 0.74\n",
            "Params size (MB): 0.03\n",
            "Estimated Total Size (MB): 0.78\n",
            "----------------------------------------------------------------\n",
            "-----------------------------------model arcitecture with Group normalization------------------------\n",
            "----------------------------------------------------------------\n",
            "        Layer (type)               Output Shape         Param #\n",
            "================================================================\n",
            "            Conv2d-1           [-1, 10, 26, 26]              90\n",
            "         GroupNorm-2           [-1, 10, 26, 26]              20\n",
            "              ReLU-3           [-1, 10, 26, 26]               0\n",
            "           Dropout-4           [-1, 10, 26, 26]               0\n",
            "            Conv2d-5           [-1, 12, 24, 24]           1,080\n",
            "         GroupNorm-6           [-1, 12, 24, 24]              24\n",
            "              ReLU-7           [-1, 12, 24, 24]               0\n",
            "           Dropout-8           [-1, 12, 24, 24]               0\n",
            "            Conv2d-9           [-1, 14, 22, 22]           1,512\n",
            "        GroupNorm-10           [-1, 14, 22, 22]              28\n",
            "             ReLU-11           [-1, 14, 22, 22]               0\n",
            "          Dropout-12           [-1, 14, 22, 22]               0\n",
            "        MaxPool2d-13           [-1, 14, 11, 11]               0\n",
            "           Conv2d-14           [-1, 10, 11, 11]             140\n",
            "        GroupNorm-15           [-1, 10, 11, 11]              20\n",
            "             ReLU-16           [-1, 10, 11, 11]               0\n",
            "          Dropout-17           [-1, 10, 11, 11]               0\n",
            "           Conv2d-18             [-1, 14, 9, 9]           1,260\n",
            "        GroupNorm-19             [-1, 14, 9, 9]              28\n",
            "             ReLU-20             [-1, 14, 9, 9]               0\n",
            "          Dropout-21             [-1, 14, 9, 9]               0\n",
            "           Conv2d-22             [-1, 14, 7, 7]           1,764\n",
            "        GroupNorm-23             [-1, 14, 7, 7]              28\n",
            "             ReLU-24             [-1, 14, 7, 7]               0\n",
            "          Dropout-25             [-1, 14, 7, 7]               0\n",
            "           Conv2d-26             [-1, 14, 5, 5]           1,764\n",
            "        GroupNorm-27             [-1, 14, 5, 5]              28\n",
            "             ReLU-28             [-1, 14, 5, 5]               0\n",
            "          Dropout-29             [-1, 14, 5, 5]               0\n",
            "           Conv2d-30             [-1, 10, 5, 5]             140\n",
            "        AvgPool2d-31             [-1, 10, 1, 1]               0\n",
            "================================================================\n",
            "Total params: 7,926\n",
            "Trainable params: 7,926\n",
            "Non-trainable params: 0\n",
            "----------------------------------------------------------------\n",
            "Input size (MB): 0.00\n",
            "Forward/backward pass size (MB): 0.74\n",
            "Params size (MB): 0.03\n",
            "Estimated Total Size (MB): 0.78\n",
            "----------------------------------------------------------------\n",
            "-----------------------------------model arcitecture with layer normalization------------------------\n",
            "----------------------------------------------------------------\n",
            "        Layer (type)               Output Shape         Param #\n",
            "================================================================\n",
            "            Conv2d-1           [-1, 10, 26, 26]              90\n",
            "         LayerNorm-2           [-1, 10, 26, 26]               0\n",
            "              ReLU-3           [-1, 10, 26, 26]               0\n",
            "           Dropout-4           [-1, 10, 26, 26]               0\n",
            "            Conv2d-5           [-1, 12, 24, 24]           1,080\n",
            "         LayerNorm-6           [-1, 12, 24, 24]               0\n",
            "              ReLU-7           [-1, 12, 24, 24]               0\n",
            "           Dropout-8           [-1, 12, 24, 24]               0\n",
            "            Conv2d-9           [-1, 14, 22, 22]           1,512\n",
            "        LayerNorm-10           [-1, 14, 22, 22]               0\n",
            "             ReLU-11           [-1, 14, 22, 22]               0\n",
            "          Dropout-12           [-1, 14, 22, 22]               0\n",
            "        MaxPool2d-13           [-1, 14, 11, 11]               0\n",
            "           Conv2d-14           [-1, 10, 11, 11]             140\n",
            "        LayerNorm-15           [-1, 10, 11, 11]               0\n",
            "             ReLU-16           [-1, 10, 11, 11]               0\n",
            "          Dropout-17           [-1, 10, 11, 11]               0\n",
            "           Conv2d-18             [-1, 14, 9, 9]           1,260\n",
            "        LayerNorm-19             [-1, 14, 9, 9]               0\n",
            "             ReLU-20             [-1, 14, 9, 9]               0\n",
            "          Dropout-21             [-1, 14, 9, 9]               0\n",
            "           Conv2d-22             [-1, 14, 7, 7]           1,764\n",
            "        LayerNorm-23             [-1, 14, 7, 7]               0\n",
            "             ReLU-24             [-1, 14, 7, 7]               0\n",
            "          Dropout-25             [-1, 14, 7, 7]               0\n",
            "           Conv2d-26             [-1, 14, 5, 5]           1,764\n",
            "        LayerNorm-27             [-1, 14, 5, 5]               0\n",
            "             ReLU-28             [-1, 14, 5, 5]               0\n",
            "          Dropout-29             [-1, 14, 5, 5]               0\n",
            "           Conv2d-30             [-1, 10, 5, 5]             140\n",
            "        AvgPool2d-31             [-1, 10, 1, 1]               0\n",
            "================================================================\n",
            "Total params: 7,750\n",
            "Trainable params: 7,750\n",
            "Non-trainable params: 0\n",
            "----------------------------------------------------------------\n",
            "Input size (MB): 0.00\n",
            "Forward/backward pass size (MB): 0.74\n",
            "Params size (MB): 0.03\n",
            "Estimated Total Size (MB): 0.77\n",
            "----------------------------------------------------------------\n"
          ]
        }
      ]
    },
    {
      "cell_type": "markdown",
      "source": [
        "##Training model\n",
        "Here we will going to train our three models. For this there are two more custom class modules which are responsible for training and testing.\n",
        "1. `TrainModel` - This class contains source code to perform forward and backward pass and train the model.\n",
        "2. `TestModel` - This class contains source code to test the model accuracy i.e. forward pass only."
      ],
      "metadata": {
        "id": "IWKOdx7Apd5W"
      }
    },
    {
      "cell_type": "code",
      "source": [
        "# import our custom classes for training and testing model\n",
        "\n",
        "from components.training import TrainModel\n",
        "from components.test import TestModel\n",
        "from torch.optim.lr_scheduler import StepLR \n",
        "\n",
        "EPOCHS = 20"
      ],
      "metadata": {
        "id": "V76TYThFtvm6"
      },
      "execution_count": 7,
      "outputs": []
    },
    {
      "cell_type": "markdown",
      "source": [
        "In below cell, we are defining our model, optimizer, scheduler.\n",
        "We are also defining instance of `TrainModel` and `TestModel` for all three model.\n",
        "- `batch norm model` - my_model1, optimizer1, scheduler1, train_module1 and test_module1.\n",
        "- `group norm model` - my_model2, optimizer2, scheduler2, train_module2 and test_module2.\n",
        "- `layer norm model` - my_model3, optimizer3, scheduler3, train_module3 and test_module3.\n",
        "\n",
        "Below are arguments for `TrainModel` instance:\n",
        "1. model - model arcitecutre which will be trained.\n",
        "2. device - device on which model will be trained i.e. cude, cpu, etc.\n",
        "3. dataloader - dataloader which is attribute of `Dataset` class.\n",
        "4. optimizer - optimizer to perform gredient decent."
      ],
      "metadata": {
        "id": "_8um052_vXgt"
      }
    },
    {
      "cell_type": "code",
      "source": [
        "# Training model with batch normalization and L1 regularization\n",
        "my_model1 = Net(in_channel=1, norm_type=\"batch\", drop_out=0.0).to(device)\n",
        "optimizer1 = optim.SGD(my_model1.parameters(), lr=0.01, momentum=0.9)\n",
        "scheduler1 = StepLR(optimizer1, step_size=4, gamma=0.1) \n",
        "\n",
        "train_module1 = TrainModel(my_model1, device, my_mnist_train.dataloader, optimizer1)\n",
        "test_module1 = TestModel(my_model1, device, my_mnist_test.dataloader)\n",
        "\n",
        "\n",
        "# Training model with group normalization\n",
        "my_model2 = Net(in_channel=1, norm_type=\"group\", drop_out=0.0).to(device)\n",
        "optimizer2 = optim.SGD(my_model2.parameters(), lr=0.01, momentum=0.9)\n",
        "scheduler2 = StepLR(optimizer2, step_size=4, gamma=0.1) \n",
        "\n",
        "train_module2 = TrainModel(my_model2, device, my_mnist_train.dataloader, optimizer2)\n",
        "test_module2 = TestModel(my_model2, device, my_mnist_test.dataloader)\n",
        "\n",
        "\n",
        "# Training model with Layer normalization\n",
        "my_model3 = Net(in_channel=1, norm_type=\"layer\", drop_out=0.0).to(device)\n",
        "optimizer3 = optim.SGD(my_model3.parameters(), lr=0.01, momentum=0.9)\n",
        "scheduler3 = StepLR(optimizer3, step_size=4, gamma=0.1) \n",
        "\n",
        "train_module3 = TrainModel(my_model3, device, my_mnist_train.dataloader, optimizer3)\n",
        "test_module3 = TestModel(my_model3, device, my_mnist_test.dataloader)"
      ],
      "metadata": {
        "id": "WZgcSyLxthGa"
      },
      "execution_count": 9,
      "outputs": []
    },
    {
      "cell_type": "markdown",
      "source": [
        "####Epoch loop in training\n",
        "Here we will start training of all model under one epoch.\n",
        "To trigger training, we call `.train()` method on our `TrainModel` instance and `.test()` instance method on our `TestModel` instance.\n",
        "\n",
        "`.train()` takes two arguments related to L1 regularization.\n",
        "- L1_reg `bool` - if L1 regularization need to be performed while caculating loss.\n",
        "- l1_lambda - Lambda value to control amount of L1 regularization. \n",
        "\n"
      ],
      "metadata": {
        "id": "ceFLsw9QwBmg"
      }
    },
    {
      "cell_type": "code",
      "source": [
        "# Training model with Group normalization\n",
        "\n",
        "for epoch in range(EPOCHS):\n",
        "    print(\"EPOCH:\", epoch)\n",
        "    \n",
        "    print(\"\\n-----------training and testing loop for model1 (batch norm model)--------------\")\n",
        "    train_module1.train_a(L1_reg=True, l1_lambda=0.001) # batch norm model with L1 regularization.\n",
        "    test_module1.test()\n",
        "    scheduler1.step()\n",
        "\n",
        "    print(\"\\n-----------training and testing loop for model2 (group norm model)--------------\")\n",
        "    train_module2.train_a(L1_reg=False) \n",
        "    test_module2.test()\n",
        "    scheduler2.step()\n",
        "\n",
        "    print(\"\\n-----------training and testing loop for model3 (layer norm model)--------------\")\n",
        "    train_module3.train_a(L1_reg=False) \n",
        "    test_module3.test()\n",
        "    scheduler3.step()\n",
        "\n"
      ],
      "metadata": {
        "colab": {
          "base_uri": "https://localhost:8080/"
        },
        "id": "RqO6XsuXup0T",
        "outputId": "da28a0b1-563c-4546-b122-ba3a796ae68d"
      },
      "execution_count": 10,
      "outputs": [
        {
          "metadata": {
            "tags": null
          },
          "name": "stdout",
          "output_type": "stream",
          "text": [
            "EPOCH: 0\n",
            "-----------training and testing loop for model1 (batch norm model)--------------\n"
          ]
        },
        {
          "metadata": {
            "tags": null
          },
          "name": "stderr",
          "output_type": "stream",
          "text": [
            "Loss=0.5698561668395996 Batch_id=937 Accuracy=90.06: 100%|██████████| 938/938 [01:14<00:00, 12.64it/s]\n"
          ]
        },
        {
          "metadata": {
            "tags": null
          },
          "name": "stdout",
          "output_type": "stream",
          "text": [
            "\n",
            "Test set: Average loss: 0.0906, Accuracy: 9752/10000 (97.52%)\n",
            "\n",
            "-----------training and testing loop for model2 (group norm model)--------------\n"
          ]
        },
        {
          "metadata": {
            "tags": null
          },
          "name": "stderr",
          "output_type": "stream",
          "text": [
            "Loss=0.04811637103557587 Batch_id=937 Accuracy=85.77: 100%|██████████| 938/938 [01:10<00:00, 13.37it/s]\n"
          ]
        },
        {
          "metadata": {
            "tags": null
          },
          "name": "stdout",
          "output_type": "stream",
          "text": [
            "\n",
            "Test set: Average loss: 0.1187, Accuracy: 9677/10000 (96.77%)\n",
            "\n",
            "-----------training and testing loop for model3 (layer norm model)--------------\n"
          ]
        },
        {
          "metadata": {
            "tags": null
          },
          "name": "stderr",
          "output_type": "stream",
          "text": [
            "Loss=0.12589530646800995 Batch_id=937 Accuracy=80.64: 100%|██████████| 938/938 [01:08<00:00, 13.75it/s]\n"
          ]
        },
        {
          "metadata": {
            "tags": null
          },
          "name": "stdout",
          "output_type": "stream",
          "text": [
            "\n",
            "Test set: Average loss: 0.1869, Accuracy: 9685/10000 (96.85%)\n",
            "\n",
            "EPOCH: 1\n",
            "-----------training and testing loop for model1 (batch norm model)--------------\n"
          ]
        },
        {
          "metadata": {
            "tags": null
          },
          "name": "stderr",
          "output_type": "stream",
          "text": [
            "Loss=0.47766318917274475 Batch_id=937 Accuracy=96.86: 100%|██████████| 938/938 [01:13<00:00, 12.75it/s]\n"
          ]
        },
        {
          "metadata": {
            "tags": null
          },
          "name": "stdout",
          "output_type": "stream",
          "text": [
            "\n",
            "Test set: Average loss: 0.1191, Accuracy: 9632/10000 (96.32%)\n",
            "\n",
            "-----------training and testing loop for model2 (group norm model)--------------\n"
          ]
        },
        {
          "metadata": {
            "tags": null
          },
          "name": "stderr",
          "output_type": "stream",
          "text": [
            "Loss=0.09535504877567291 Batch_id=937 Accuracy=97.47: 100%|██████████| 938/938 [01:09<00:00, 13.55it/s]\n"
          ]
        },
        {
          "metadata": {
            "tags": null
          },
          "name": "stdout",
          "output_type": "stream",
          "text": [
            "\n",
            "Test set: Average loss: 0.0593, Accuracy: 9809/10000 (98.09%)\n",
            "\n",
            "-----------training and testing loop for model3 (layer norm model)--------------\n"
          ]
        },
        {
          "metadata": {
            "tags": null
          },
          "name": "stderr",
          "output_type": "stream",
          "text": [
            "Loss=0.14662183821201324 Batch_id=937 Accuracy=96.19: 100%|██████████| 938/938 [01:08<00:00, 13.68it/s]\n"
          ]
        },
        {
          "metadata": {
            "tags": null
          },
          "name": "stdout",
          "output_type": "stream",
          "text": [
            "\n",
            "Test set: Average loss: 0.1570, Accuracy: 9632/10000 (96.32%)\n",
            "\n",
            "EPOCH: 2\n",
            "-----------training and testing loop for model1 (batch norm model)--------------\n"
          ]
        },
        {
          "metadata": {
            "tags": null
          },
          "name": "stderr",
          "output_type": "stream",
          "text": [
            "Loss=0.3181896209716797 Batch_id=937 Accuracy=97.25: 100%|██████████| 938/938 [01:13<00:00, 12.82it/s]\n"
          ]
        },
        {
          "metadata": {
            "tags": null
          },
          "name": "stdout",
          "output_type": "stream",
          "text": [
            "\n",
            "Test set: Average loss: 0.0992, Accuracy: 9686/10000 (96.86%)\n",
            "\n",
            "-----------training and testing loop for model2 (group norm model)--------------\n"
          ]
        },
        {
          "metadata": {
            "tags": null
          },
          "name": "stderr",
          "output_type": "stream",
          "text": [
            "Loss=0.056592926383018494 Batch_id=937 Accuracy=97.98: 100%|██████████| 938/938 [01:09<00:00, 13.55it/s]\n"
          ]
        },
        {
          "metadata": {
            "tags": null
          },
          "name": "stdout",
          "output_type": "stream",
          "text": [
            "\n",
            "Test set: Average loss: 0.0499, Accuracy: 9853/10000 (98.53%)\n",
            "\n",
            "-----------training and testing loop for model3 (layer norm model)--------------\n"
          ]
        },
        {
          "metadata": {
            "tags": null
          },
          "name": "stderr",
          "output_type": "stream",
          "text": [
            "Loss=0.04731164872646332 Batch_id=937 Accuracy=97.23: 100%|██████████| 938/938 [01:07<00:00, 13.81it/s]\n"
          ]
        },
        {
          "metadata": {
            "tags": null
          },
          "name": "stdout",
          "output_type": "stream",
          "text": [
            "\n",
            "Test set: Average loss: 0.0956, Accuracy: 9761/10000 (97.61%)\n",
            "\n",
            "EPOCH: 3\n",
            "-----------training and testing loop for model1 (batch norm model)--------------\n"
          ]
        },
        {
          "metadata": {
            "tags": null
          },
          "name": "stderr",
          "output_type": "stream",
          "text": [
            "Loss=0.35704585909843445 Batch_id=937 Accuracy=97.29: 100%|██████████| 938/938 [01:13<00:00, 12.80it/s]\n"
          ]
        },
        {
          "metadata": {
            "tags": null
          },
          "name": "stdout",
          "output_type": "stream",
          "text": [
            "\n",
            "Test set: Average loss: 0.0894, Accuracy: 9727/10000 (97.27%)\n",
            "\n",
            "-----------training and testing loop for model2 (group norm model)--------------\n"
          ]
        },
        {
          "metadata": {
            "tags": null
          },
          "name": "stderr",
          "output_type": "stream",
          "text": [
            "Loss=0.16915397346019745 Batch_id=937 Accuracy=98.39: 100%|██████████| 938/938 [01:10<00:00, 13.39it/s]\n"
          ]
        },
        {
          "metadata": {
            "tags": null
          },
          "name": "stdout",
          "output_type": "stream",
          "text": [
            "\n",
            "Test set: Average loss: 0.0423, Accuracy: 9880/10000 (98.80%)\n",
            "\n",
            "-----------training and testing loop for model3 (layer norm model)--------------\n"
          ]
        },
        {
          "metadata": {
            "tags": null
          },
          "name": "stderr",
          "output_type": "stream",
          "text": [
            "Loss=0.1250283271074295 Batch_id=937 Accuracy=97.77: 100%|██████████| 938/938 [01:08<00:00, 13.72it/s]\n"
          ]
        },
        {
          "metadata": {
            "tags": null
          },
          "name": "stdout",
          "output_type": "stream",
          "text": [
            "\n",
            "Test set: Average loss: 0.0676, Accuracy: 9845/10000 (98.45%)\n",
            "\n",
            "EPOCH: 4\n",
            "-----------training and testing loop for model1 (batch norm model)--------------\n"
          ]
        },
        {
          "metadata": {
            "tags": null
          },
          "name": "stderr",
          "output_type": "stream",
          "text": [
            "Loss=0.2821517288684845 Batch_id=937 Accuracy=98.60: 100%|██████████| 938/938 [01:14<00:00, 12.61it/s]\n"
          ]
        },
        {
          "metadata": {
            "tags": null
          },
          "name": "stdout",
          "output_type": "stream",
          "text": [
            "\n",
            "Test set: Average loss: 0.0310, Accuracy: 9908/10000 (99.08%)\n",
            "\n",
            "-----------training and testing loop for model2 (group norm model)--------------\n"
          ]
        },
        {
          "metadata": {
            "tags": null
          },
          "name": "stderr",
          "output_type": "stream",
          "text": [
            "Loss=0.23461364209651947 Batch_id=937 Accuracy=98.93: 100%|██████████| 938/938 [01:10<00:00, 13.32it/s]\n"
          ]
        },
        {
          "metadata": {
            "tags": null
          },
          "name": "stdout",
          "output_type": "stream",
          "text": [
            "\n",
            "Test set: Average loss: 0.0293, Accuracy: 9922/10000 (99.22%)\n",
            "\n",
            "-----------training and testing loop for model3 (layer norm model)--------------\n"
          ]
        },
        {
          "metadata": {
            "tags": null
          },
          "name": "stderr",
          "output_type": "stream",
          "text": [
            "Loss=0.09640240669250488 Batch_id=937 Accuracy=98.49: 100%|██████████| 938/938 [01:08<00:00, 13.63it/s]\n"
          ]
        },
        {
          "metadata": {
            "tags": null
          },
          "name": "stdout",
          "output_type": "stream",
          "text": [
            "\n",
            "Test set: Average loss: 0.0509, Accuracy: 9894/10000 (98.94%)\n",
            "\n",
            "EPOCH: 5\n",
            "-----------training and testing loop for model1 (batch norm model)--------------\n"
          ]
        },
        {
          "metadata": {
            "tags": null
          },
          "name": "stderr",
          "output_type": "stream",
          "text": [
            "Loss=0.28145700693130493 Batch_id=937 Accuracy=98.71: 100%|██████████| 938/938 [01:14<00:00, 12.52it/s]\n"
          ]
        },
        {
          "metadata": {
            "tags": null
          },
          "name": "stdout",
          "output_type": "stream",
          "text": [
            "\n",
            "Test set: Average loss: 0.0330, Accuracy: 9898/10000 (98.98%)\n",
            "\n",
            "-----------training and testing loop for model2 (group norm model)--------------\n"
          ]
        },
        {
          "metadata": {
            "tags": null
          },
          "name": "stderr",
          "output_type": "stream",
          "text": [
            "Loss=0.03752858564257622 Batch_id=937 Accuracy=99.06: 100%|██████████| 938/938 [01:09<00:00, 13.57it/s]\n"
          ]
        },
        {
          "metadata": {
            "tags": null
          },
          "name": "stdout",
          "output_type": "stream",
          "text": [
            "\n",
            "Test set: Average loss: 0.0280, Accuracy: 9929/10000 (99.29%)\n",
            "\n",
            "-----------training and testing loop for model3 (layer norm model)--------------\n"
          ]
        },
        {
          "metadata": {
            "tags": null
          },
          "name": "stderr",
          "output_type": "stream",
          "text": [
            "Loss=0.06719181686639786 Batch_id=937 Accuracy=98.66: 100%|██████████| 938/938 [01:08<00:00, 13.68it/s]\n"
          ]
        },
        {
          "metadata": {
            "tags": null
          },
          "name": "stdout",
          "output_type": "stream",
          "text": [
            "\n",
            "Test set: Average loss: 0.0487, Accuracy: 9898/10000 (98.98%)\n",
            "\n",
            "EPOCH: 6\n",
            "-----------training and testing loop for model1 (batch norm model)--------------\n"
          ]
        },
        {
          "metadata": {
            "tags": null
          },
          "name": "stderr",
          "output_type": "stream",
          "text": [
            "Loss=0.22374804317951202 Batch_id=937 Accuracy=98.71: 100%|██████████| 938/938 [01:13<00:00, 12.81it/s]\n"
          ]
        },
        {
          "metadata": {
            "tags": null
          },
          "name": "stdout",
          "output_type": "stream",
          "text": [
            "\n",
            "Test set: Average loss: 0.0354, Accuracy: 9894/10000 (98.94%)\n",
            "\n",
            "-----------training and testing loop for model2 (group norm model)--------------\n"
          ]
        },
        {
          "metadata": {
            "tags": null
          },
          "name": "stderr",
          "output_type": "stream",
          "text": [
            "Loss=0.00940684787929058 Batch_id=937 Accuracy=99.07: 100%|██████████| 938/938 [01:09<00:00, 13.51it/s]\n"
          ]
        },
        {
          "metadata": {
            "tags": null
          },
          "name": "stdout",
          "output_type": "stream",
          "text": [
            "\n",
            "Test set: Average loss: 0.0272, Accuracy: 9928/10000 (99.28%)\n",
            "\n",
            "-----------training and testing loop for model3 (layer norm model)--------------\n"
          ]
        },
        {
          "metadata": {
            "tags": null
          },
          "name": "stderr",
          "output_type": "stream",
          "text": [
            "Loss=0.03605250269174576 Batch_id=937 Accuracy=98.64: 100%|██████████| 938/938 [01:09<00:00, 13.59it/s]\n"
          ]
        },
        {
          "metadata": {
            "tags": null
          },
          "name": "stdout",
          "output_type": "stream",
          "text": [
            "\n",
            "Test set: Average loss: 0.0477, Accuracy: 9897/10000 (98.97%)\n",
            "\n",
            "EPOCH: 7\n",
            "-----------training and testing loop for model1 (batch norm model)--------------\n"
          ]
        },
        {
          "metadata": {
            "tags": null
          },
          "name": "stderr",
          "output_type": "stream",
          "text": [
            "Loss=0.24352149665355682 Batch_id=937 Accuracy=98.61: 100%|██████████| 938/938 [01:15<00:00, 12.43it/s]\n"
          ]
        },
        {
          "metadata": {
            "tags": null
          },
          "name": "stdout",
          "output_type": "stream",
          "text": [
            "\n",
            "Test set: Average loss: 0.0322, Accuracy: 9899/10000 (98.99%)\n",
            "\n",
            "-----------training and testing loop for model2 (group norm model)--------------\n"
          ]
        },
        {
          "metadata": {
            "tags": null
          },
          "name": "stderr",
          "output_type": "stream",
          "text": [
            "Loss=0.020863357931375504 Batch_id=937 Accuracy=99.08: 100%|██████████| 938/938 [01:11<00:00, 13.04it/s]\n"
          ]
        },
        {
          "metadata": {
            "tags": null
          },
          "name": "stdout",
          "output_type": "stream",
          "text": [
            "\n",
            "Test set: Average loss: 0.0269, Accuracy: 9925/10000 (99.25%)\n",
            "\n",
            "-----------training and testing loop for model3 (layer norm model)--------------\n"
          ]
        },
        {
          "metadata": {
            "tags": null
          },
          "name": "stderr",
          "output_type": "stream",
          "text": [
            "Loss=0.06167348474264145 Batch_id=937 Accuracy=98.70: 100%|██████████| 938/938 [01:09<00:00, 13.45it/s]\n"
          ]
        },
        {
          "metadata": {
            "tags": null
          },
          "name": "stdout",
          "output_type": "stream",
          "text": [
            "\n",
            "Test set: Average loss: 0.0464, Accuracy: 9902/10000 (99.02%)\n",
            "\n",
            "EPOCH: 8\n",
            "-----------training and testing loop for model1 (batch norm model)--------------\n"
          ]
        },
        {
          "metadata": {
            "tags": null
          },
          "name": "stderr",
          "output_type": "stream",
          "text": [
            "Loss=0.3649038076400757 Batch_id=937 Accuracy=98.89: 100%|██████████| 938/938 [01:16<00:00, 12.33it/s]\n"
          ]
        },
        {
          "metadata": {
            "tags": null
          },
          "name": "stdout",
          "output_type": "stream",
          "text": [
            "\n",
            "Test set: Average loss: 0.0277, Accuracy: 9913/10000 (99.13%)\n",
            "\n",
            "-----------training and testing loop for model2 (group norm model)--------------\n"
          ]
        },
        {
          "metadata": {
            "tags": null
          },
          "name": "stderr",
          "output_type": "stream",
          "text": [
            "Loss=0.07328858226537704 Batch_id=937 Accuracy=99.17: 100%|██████████| 938/938 [01:10<00:00, 13.24it/s]\n"
          ]
        },
        {
          "metadata": {
            "tags": null
          },
          "name": "stdout",
          "output_type": "stream",
          "text": [
            "\n",
            "Test set: Average loss: 0.0267, Accuracy: 9929/10000 (99.29%)\n",
            "\n",
            "-----------training and testing loop for model3 (layer norm model)--------------\n"
          ]
        },
        {
          "metadata": {
            "tags": null
          },
          "name": "stderr",
          "output_type": "stream",
          "text": [
            "Loss=0.05597031116485596 Batch_id=937 Accuracy=98.76: 100%|██████████| 938/938 [01:10<00:00, 13.37it/s]\n"
          ]
        },
        {
          "metadata": {
            "tags": null
          },
          "name": "stdout",
          "output_type": "stream",
          "text": [
            "\n",
            "Test set: Average loss: 0.0459, Accuracy: 9903/10000 (99.03%)\n",
            "\n",
            "EPOCH: 9\n",
            "-----------training and testing loop for model1 (batch norm model)--------------\n"
          ]
        },
        {
          "metadata": {
            "tags": null
          },
          "name": "stderr",
          "output_type": "stream",
          "text": [
            "Loss=0.26369261741638184 Batch_id=937 Accuracy=98.93: 100%|██████████| 938/938 [01:15<00:00, 12.45it/s]\n"
          ]
        },
        {
          "metadata": {
            "tags": null
          },
          "name": "stdout",
          "output_type": "stream",
          "text": [
            "\n",
            "Test set: Average loss: 0.0286, Accuracy: 9912/10000 (99.12%)\n",
            "\n",
            "-----------training and testing loop for model2 (group norm model)--------------\n"
          ]
        },
        {
          "output_type": "stream",
          "name": "stderr",
          "text": [
            "Loss=0.012754063121974468 Batch_id=937 Accuracy=99.19: 100%|██████████| 938/938 [01:12<00:00, 12.96it/s]\n"
          ]
        },
        {
          "output_type": "stream",
          "name": "stdout",
          "text": [
            "\n",
            "Test set: Average loss: 0.0265, Accuracy: 9931/10000 (99.31%)\n",
            "\n",
            "-----------training and testing loop for model3 (layer norm model)--------------\n"
          ]
        },
        {
          "output_type": "stream",
          "name": "stderr",
          "text": [
            "Loss=0.05356350168585777 Batch_id=937 Accuracy=98.78: 100%|██████████| 938/938 [01:11<00:00, 13.08it/s]\n"
          ]
        },
        {
          "output_type": "stream",
          "name": "stdout",
          "text": [
            "\n",
            "Test set: Average loss: 0.0457, Accuracy: 9902/10000 (99.02%)\n",
            "\n",
            "EPOCH: 10\n",
            "-----------training and testing loop for model1 (batch norm model)--------------\n"
          ]
        },
        {
          "output_type": "stream",
          "name": "stderr",
          "text": [
            "Loss=0.22781407833099365 Batch_id=937 Accuracy=98.89: 100%|██████████| 938/938 [01:15<00:00, 12.38it/s]\n"
          ]
        },
        {
          "output_type": "stream",
          "name": "stdout",
          "text": [
            "\n",
            "Test set: Average loss: 0.0273, Accuracy: 9920/10000 (99.20%)\n",
            "\n",
            "-----------training and testing loop for model2 (group norm model)--------------\n"
          ]
        },
        {
          "output_type": "stream",
          "name": "stderr",
          "text": [
            "Loss=0.010055875405669212 Batch_id=937 Accuracy=99.17: 100%|██████████| 938/938 [01:12<00:00, 12.87it/s]\n"
          ]
        },
        {
          "output_type": "stream",
          "name": "stdout",
          "text": [
            "\n",
            "Test set: Average loss: 0.0267, Accuracy: 9927/10000 (99.27%)\n",
            "\n",
            "-----------training and testing loop for model3 (layer norm model)--------------\n"
          ]
        },
        {
          "output_type": "stream",
          "name": "stderr",
          "text": [
            "Loss=0.028850100934505463 Batch_id=937 Accuracy=98.72: 100%|██████████| 938/938 [01:10<00:00, 13.22it/s]\n"
          ]
        },
        {
          "output_type": "stream",
          "name": "stdout",
          "text": [
            "\n",
            "Test set: Average loss: 0.0459, Accuracy: 9903/10000 (99.03%)\n",
            "\n",
            "EPOCH: 11\n",
            "-----------training and testing loop for model1 (batch norm model)--------------\n"
          ]
        },
        {
          "output_type": "stream",
          "name": "stderr",
          "text": [
            "Loss=0.21908828616142273 Batch_id=937 Accuracy=98.95: 100%|██████████| 938/938 [01:15<00:00, 12.48it/s]\n"
          ]
        },
        {
          "output_type": "stream",
          "name": "stdout",
          "text": [
            "\n",
            "Test set: Average loss: 0.0269, Accuracy: 9920/10000 (99.20%)\n",
            "\n",
            "-----------training and testing loop for model2 (group norm model)--------------\n"
          ]
        },
        {
          "output_type": "stream",
          "name": "stderr",
          "text": [
            "Loss=0.015096691437065601 Batch_id=937 Accuracy=99.22: 100%|██████████| 938/938 [01:12<00:00, 12.99it/s]\n"
          ]
        },
        {
          "output_type": "stream",
          "name": "stdout",
          "text": [
            "\n",
            "Test set: Average loss: 0.0266, Accuracy: 9930/10000 (99.30%)\n",
            "\n",
            "-----------training and testing loop for model3 (layer norm model)--------------\n"
          ]
        },
        {
          "output_type": "stream",
          "name": "stderr",
          "text": [
            "Loss=0.03800392523407936 Batch_id=937 Accuracy=98.75: 100%|██████████| 938/938 [01:10<00:00, 13.37it/s]\n"
          ]
        },
        {
          "output_type": "stream",
          "name": "stdout",
          "text": [
            "\n",
            "Test set: Average loss: 0.0453, Accuracy: 9903/10000 (99.03%)\n",
            "\n",
            "EPOCH: 12\n",
            "-----------training and testing loop for model1 (batch norm model)--------------\n"
          ]
        },
        {
          "output_type": "stream",
          "name": "stderr",
          "text": [
            "Loss=0.2348853200674057 Batch_id=937 Accuracy=98.97: 100%|██████████| 938/938 [01:16<00:00, 12.31it/s]\n"
          ]
        },
        {
          "output_type": "stream",
          "name": "stdout",
          "text": [
            "\n",
            "Test set: Average loss: 0.0272, Accuracy: 9919/10000 (99.19%)\n",
            "\n",
            "-----------training and testing loop for model2 (group norm model)--------------\n"
          ]
        },
        {
          "output_type": "stream",
          "name": "stderr",
          "text": [
            "Loss=0.08638447523117065 Batch_id=937 Accuracy=99.18: 100%|██████████| 938/938 [01:13<00:00, 12.71it/s]\n"
          ]
        },
        {
          "output_type": "stream",
          "name": "stdout",
          "text": [
            "\n",
            "Test set: Average loss: 0.0266, Accuracy: 9930/10000 (99.30%)\n",
            "\n",
            "-----------training and testing loop for model3 (layer norm model)--------------\n"
          ]
        },
        {
          "output_type": "stream",
          "name": "stderr",
          "text": [
            "Loss=0.16595886647701263 Batch_id=937 Accuracy=98.79: 100%|██████████| 938/938 [01:14<00:00, 12.52it/s]\n"
          ]
        },
        {
          "output_type": "stream",
          "name": "stdout",
          "text": [
            "\n",
            "Test set: Average loss: 0.0454, Accuracy: 9901/10000 (99.01%)\n",
            "\n",
            "EPOCH: 13\n",
            "-----------training and testing loop for model1 (batch norm model)--------------\n"
          ]
        },
        {
          "output_type": "stream",
          "name": "stderr",
          "text": [
            "Loss=0.4130670726299286 Batch_id=937 Accuracy=99.02: 100%|██████████| 938/938 [01:23<00:00, 11.29it/s]\n"
          ]
        },
        {
          "output_type": "stream",
          "name": "stdout",
          "text": [
            "\n",
            "Test set: Average loss: 0.0271, Accuracy: 9919/10000 (99.19%)\n",
            "\n",
            "-----------training and testing loop for model2 (group norm model)--------------\n"
          ]
        },
        {
          "output_type": "stream",
          "name": "stderr",
          "text": [
            "Loss=0.011284997686743736 Batch_id=937 Accuracy=99.17: 100%|██████████| 938/938 [01:20<00:00, 11.59it/s]\n"
          ]
        },
        {
          "output_type": "stream",
          "name": "stdout",
          "text": [
            "\n",
            "Test set: Average loss: 0.0266, Accuracy: 9930/10000 (99.30%)\n",
            "\n",
            "-----------training and testing loop for model3 (layer norm model)--------------\n"
          ]
        },
        {
          "output_type": "stream",
          "name": "stderr",
          "text": [
            "Loss=0.03032495081424713 Batch_id=937 Accuracy=98.83: 100%|██████████| 938/938 [01:15<00:00, 12.45it/s]\n"
          ]
        },
        {
          "output_type": "stream",
          "name": "stdout",
          "text": [
            "\n",
            "Test set: Average loss: 0.0455, Accuracy: 9902/10000 (99.02%)\n",
            "\n",
            "EPOCH: 14\n",
            "-----------training and testing loop for model1 (batch norm model)--------------\n"
          ]
        },
        {
          "output_type": "stream",
          "name": "stderr",
          "text": [
            "Loss=0.22751903533935547 Batch_id=937 Accuracy=98.95: 100%|██████████| 938/938 [01:19<00:00, 11.85it/s]\n"
          ]
        },
        {
          "output_type": "stream",
          "name": "stdout",
          "text": [
            "\n",
            "Test set: Average loss: 0.0270, Accuracy: 9919/10000 (99.19%)\n",
            "\n",
            "-----------training and testing loop for model2 (group norm model)--------------\n"
          ]
        },
        {
          "output_type": "stream",
          "name": "stderr",
          "text": [
            "Loss=0.0025106517132371664 Batch_id=937 Accuracy=99.14: 100%|██████████| 938/938 [01:15<00:00, 12.41it/s]\n"
          ]
        },
        {
          "output_type": "stream",
          "name": "stdout",
          "text": [
            "\n",
            "Test set: Average loss: 0.0265, Accuracy: 9931/10000 (99.31%)\n",
            "\n",
            "-----------training and testing loop for model3 (layer norm model)--------------\n"
          ]
        },
        {
          "output_type": "stream",
          "name": "stderr",
          "text": [
            "Loss=0.024305878207087517 Batch_id=937 Accuracy=98.80: 100%|██████████| 938/938 [01:12<00:00, 12.93it/s]\n"
          ]
        },
        {
          "output_type": "stream",
          "name": "stdout",
          "text": [
            "\n",
            "Test set: Average loss: 0.0454, Accuracy: 9903/10000 (99.03%)\n",
            "\n",
            "EPOCH: 15\n",
            "-----------training and testing loop for model1 (batch norm model)--------------\n"
          ]
        },
        {
          "output_type": "stream",
          "name": "stderr",
          "text": [
            "Loss=0.21536383032798767 Batch_id=937 Accuracy=99.00: 100%|██████████| 938/938 [01:17<00:00, 12.07it/s]\n"
          ]
        },
        {
          "output_type": "stream",
          "name": "stdout",
          "text": [
            "\n",
            "Test set: Average loss: 0.0264, Accuracy: 9924/10000 (99.24%)\n",
            "\n",
            "-----------training and testing loop for model2 (group norm model)--------------\n"
          ]
        },
        {
          "output_type": "stream",
          "name": "stderr",
          "text": [
            "Loss=0.005994219798594713 Batch_id=937 Accuracy=99.19: 100%|██████████| 938/938 [01:12<00:00, 12.86it/s]\n"
          ]
        },
        {
          "output_type": "stream",
          "name": "stdout",
          "text": [
            "\n",
            "Test set: Average loss: 0.0265, Accuracy: 9930/10000 (99.30%)\n",
            "\n",
            "-----------training and testing loop for model3 (layer norm model)--------------\n"
          ]
        },
        {
          "output_type": "stream",
          "name": "stderr",
          "text": [
            "Loss=0.053596604615449905 Batch_id=937 Accuracy=98.79: 100%|██████████| 938/938 [01:12<00:00, 12.90it/s]\n"
          ]
        },
        {
          "output_type": "stream",
          "name": "stdout",
          "text": [
            "\n",
            "Test set: Average loss: 0.0454, Accuracy: 9901/10000 (99.01%)\n",
            "\n",
            "EPOCH: 16\n",
            "-----------training and testing loop for model1 (batch norm model)--------------\n"
          ]
        },
        {
          "output_type": "stream",
          "name": "stderr",
          "text": [
            "Loss=0.21677598357200623 Batch_id=937 Accuracy=98.96: 100%|██████████| 938/938 [01:16<00:00, 12.26it/s]\n"
          ]
        },
        {
          "output_type": "stream",
          "name": "stdout",
          "text": [
            "\n",
            "Test set: Average loss: 0.0266, Accuracy: 9923/10000 (99.23%)\n",
            "\n",
            "-----------training and testing loop for model2 (group norm model)--------------\n"
          ]
        },
        {
          "output_type": "stream",
          "name": "stderr",
          "text": [
            "Loss=0.08826892822980881 Batch_id=937 Accuracy=99.15: 100%|██████████| 938/938 [01:12<00:00, 12.96it/s]\n"
          ]
        },
        {
          "output_type": "stream",
          "name": "stdout",
          "text": [
            "\n",
            "Test set: Average loss: 0.0265, Accuracy: 9930/10000 (99.30%)\n",
            "\n",
            "-----------training and testing loop for model3 (layer norm model)--------------\n"
          ]
        },
        {
          "output_type": "stream",
          "name": "stderr",
          "text": [
            "Loss=0.08839984238147736 Batch_id=937 Accuracy=98.83: 100%|██████████| 938/938 [01:11<00:00, 13.19it/s]\n"
          ]
        },
        {
          "output_type": "stream",
          "name": "stdout",
          "text": [
            "\n",
            "Test set: Average loss: 0.0454, Accuracy: 9901/10000 (99.01%)\n",
            "\n",
            "EPOCH: 17\n",
            "-----------training and testing loop for model1 (batch norm model)--------------\n"
          ]
        },
        {
          "output_type": "stream",
          "name": "stderr",
          "text": [
            "Loss=0.21628347039222717 Batch_id=937 Accuracy=98.93: 100%|██████████| 938/938 [01:16<00:00, 12.30it/s]\n"
          ]
        },
        {
          "output_type": "stream",
          "name": "stdout",
          "text": [
            "\n",
            "Test set: Average loss: 0.0267, Accuracy: 9920/10000 (99.20%)\n",
            "\n",
            "-----------training and testing loop for model2 (group norm model)--------------\n"
          ]
        },
        {
          "output_type": "stream",
          "name": "stderr",
          "text": [
            "Loss=0.007726202253252268 Batch_id=937 Accuracy=99.15: 100%|██████████| 938/938 [01:13<00:00, 12.77it/s]\n"
          ]
        },
        {
          "output_type": "stream",
          "name": "stdout",
          "text": [
            "\n",
            "Test set: Average loss: 0.0265, Accuracy: 9930/10000 (99.30%)\n",
            "\n",
            "-----------training and testing loop for model3 (layer norm model)--------------\n"
          ]
        },
        {
          "output_type": "stream",
          "name": "stderr",
          "text": [
            "Loss=0.0870572179555893 Batch_id=937 Accuracy=98.76: 100%|██████████| 938/938 [01:12<00:00, 13.01it/s]\n"
          ]
        },
        {
          "output_type": "stream",
          "name": "stdout",
          "text": [
            "\n",
            "Test set: Average loss: 0.0454, Accuracy: 9901/10000 (99.01%)\n",
            "\n",
            "EPOCH: 18\n",
            "-----------training and testing loop for model1 (batch norm model)--------------\n"
          ]
        },
        {
          "output_type": "stream",
          "name": "stderr",
          "text": [
            "Loss=0.2676035165786743 Batch_id=937 Accuracy=98.96: 100%|██████████| 938/938 [01:17<00:00, 12.16it/s]\n"
          ]
        },
        {
          "output_type": "stream",
          "name": "stdout",
          "text": [
            "\n",
            "Test set: Average loss: 0.0265, Accuracy: 9924/10000 (99.24%)\n",
            "\n",
            "-----------training and testing loop for model2 (group norm model)--------------\n"
          ]
        },
        {
          "output_type": "stream",
          "name": "stderr",
          "text": [
            "Loss=0.0016096893232315779 Batch_id=937 Accuracy=99.18: 100%|██████████| 938/938 [01:12<00:00, 12.95it/s]\n"
          ]
        },
        {
          "output_type": "stream",
          "name": "stdout",
          "text": [
            "\n",
            "Test set: Average loss: 0.0265, Accuracy: 9930/10000 (99.30%)\n",
            "\n",
            "-----------training and testing loop for model3 (layer norm model)--------------\n"
          ]
        },
        {
          "output_type": "stream",
          "name": "stderr",
          "text": [
            "Loss=0.06081075593829155 Batch_id=937 Accuracy=98.76: 100%|██████████| 938/938 [01:10<00:00, 13.22it/s]\n"
          ]
        },
        {
          "output_type": "stream",
          "name": "stdout",
          "text": [
            "\n",
            "Test set: Average loss: 0.0454, Accuracy: 9900/10000 (99.00%)\n",
            "\n",
            "EPOCH: 19\n",
            "-----------training and testing loop for model1 (batch norm model)--------------\n"
          ]
        },
        {
          "output_type": "stream",
          "name": "stderr",
          "text": [
            "Loss=0.3052992820739746 Batch_id=937 Accuracy=99.00: 100%|██████████| 938/938 [01:17<00:00, 12.08it/s]\n"
          ]
        },
        {
          "output_type": "stream",
          "name": "stdout",
          "text": [
            "\n",
            "Test set: Average loss: 0.0266, Accuracy: 9920/10000 (99.20%)\n",
            "\n",
            "-----------training and testing loop for model2 (group norm model)--------------\n"
          ]
        },
        {
          "output_type": "stream",
          "name": "stderr",
          "text": [
            "Loss=0.07851974666118622 Batch_id=937 Accuracy=99.19: 100%|██████████| 938/938 [01:12<00:00, 12.87it/s]\n"
          ]
        },
        {
          "output_type": "stream",
          "name": "stdout",
          "text": [
            "\n",
            "Test set: Average loss: 0.0265, Accuracy: 9930/10000 (99.30%)\n",
            "\n",
            "-----------training and testing loop for model3 (layer norm model)--------------\n"
          ]
        },
        {
          "output_type": "stream",
          "name": "stderr",
          "text": [
            "Loss=0.013152443803846836 Batch_id=937 Accuracy=98.80: 100%|██████████| 938/938 [01:12<00:00, 12.92it/s]\n"
          ]
        },
        {
          "output_type": "stream",
          "name": "stdout",
          "text": [
            "\n",
            "Test set: Average loss: 0.0454, Accuracy: 9900/10000 (99.00%)\n",
            "\n"
          ]
        }
      ]
    },
    {
      "cell_type": "markdown",
      "source": [
        "##Accuracy and loss visualization of three models\n",
        "Now we will use our `plot_util.py` file under `components/` to plot our models accuracy and loss against total test samples performed.\n",
        "<br>\n",
        "our test losses and accuracy will be stored in our TestModule instances i.e.:\n",
        "- losses and accuracy of **Batch Norm** model in `test_module1.test_losses` and `test_module1.test_acc`\n",
        "- losses and accuracy of **Group Norm** model in `test_module2`\n",
        "- losses and accuracy of **Layer Norm** model in `test_module3`\n",
        "\n",
        "plot function `plot_loss_accuracy` will take this instances of `TestModule` and will extract and plot two graphs.\n",
        "1. loss VS iteration for all thress model.\n",
        "2. Accuracy VS iteration for all three model.\n",
        "\n",
        "#####Model 1 -> batch norm model\n",
        "#####Model 2 -> group norm model\n",
        "#####Model 3 -> layer norm model"
      ],
      "metadata": {
        "id": "rXQgg7udx_2f"
      }
    },
    {
      "cell_type": "code",
      "source": [
        "from components.plot_util import plot_loss_accuracy\n",
        "\n",
        "%matplotlib inline\n",
        "plot_loss_accuracy(test_module1, test_module2, test_module3)"
      ],
      "metadata": {
        "colab": {
          "base_uri": "https://localhost:8080/",
          "height": 497
        },
        "id": "Kkk29-miF19J",
        "outputId": "c79964a8-5b25-485c-b8e6-85f23af6798c"
      },
      "execution_count": 11,
      "outputs": [
        {
          "output_type": "display_data",
          "data": {
            "text/plain": [
              "<Figure size 576x576 with 2 Axes>"
            ],
            "image/png": "[encoded data removed]"
          },
          "metadata": {
            "needs_background": "light"
          }
        }
      ]
    },
    {
      "cell_type": "markdown",
      "source": [
        "##Get misclassification for all three model.\n",
        "Here we have three cells, each cell will plot misclassified images, there correct label and predicted label.\n",
        "- we are ploting 10 images for each model in 5x2 matrix.\n",
        "- this images and labels are saved inside instance of `TestModule`. we can use attributes `.test_misc_img` and `.test_misc_label` to get misclassified test images and labels resp.\n",
        "\n",
        "we are using `plot_misclassified()` function which takes following arguments.\n",
        "- `test_misc_img` attribute of `TestModule` instance of respective model i.e. `test_module1.test_misc_img`. it contains misclassified image.\n",
        "- `test_misc_label` attribute of `TestModule` instance of respective model i.e. `test_module1.test_misc_label`. it contains misclassified label.\n",
        "- `string`, it is the title for the graph. Graph will also be saved inside `report/` dir with this title name."
      ],
      "metadata": {
        "id": "-Yibtm_Cz6Ao"
      }
    },
    {
      "cell_type": "code",
      "source": [
        "from components.plot_util import plot_misclassified\n",
        "\n",
        "# misclassification from model1 i.e. Batch norm model\n",
        "%matplotlib inline\n",
        "plot_misclassified(test_module1.test_misc_img, test_module1.test_misc_label, 'model1_misclassified')"
      ],
      "metadata": {
        "colab": {
          "base_uri": "https://localhost:8080/",
          "height": 647
        },
        "id": "RQnXCgs_15TK",
        "outputId": "ec7a2a30-4e60-4d35-e912-56d1d6d113d1"
      },
      "execution_count": 13,
      "outputs": [
        {
          "output_type": "display_data",
          "data": {
            "text/plain": [
              "<Figure size 720x720 with 10 Axes>"
            ],
            "image/png": "[encoded data removed]"
          },
          "metadata": {
            "needs_background": "light"
          }
        }
      ]
    },
    {
      "cell_type": "code",
      "source": [
        "# misclassification from model2 i.e. Group norm model\n",
        "%matplotlib inline\n",
        "plot_misclassified(test_module2.test_misc_img, test_module2.test_misc_label, 'model2_misclassified')"
      ],
      "metadata": {
        "colab": {
          "base_uri": "https://localhost:8080/",
          "height": 647
        },
        "id": "q8LumJc416TX",
        "outputId": "c79172f7-3dcb-4f08-ac92-717f93419634"
      },
      "execution_count": 14,
      "outputs": [
        {
          "output_type": "display_data",
          "data": {
            "text/plain": [
              "<Figure size 720x720 with 10 Axes>"
            ],
            "image/png": "[encoded data removed]"
          },
          "metadata": {
            "needs_background": "light"
          }
        }
      ]
    },
    {
      "cell_type": "code",
      "source": [
        "# misclassification from model3 i.e. Layer norm model\n",
        "%matplotlib inline\n",
        "plot_misclassified(test_module3.test_misc_img, test_module3.test_misc_label, 'model3_misclassified')"
      ],
      "metadata": {
        "colab": {
          "base_uri": "https://localhost:8080/",
          "height": 647
        },
        "id": "Mb2qGOv-16tu",
        "outputId": "36ebfc3b-2ded-400d-8192-ee0de3b55d60"
      },
      "execution_count": 15,
      "outputs": [
        {
          "output_type": "display_data",
          "data": {
            "text/plain": [
              "<Figure size 720x720 with 10 Axes>"
            ],
            "image/png": "[encoded data removed]"
          },
          "metadata": {
            "needs_background": "light"
          }
        }
      ]
    }
  ],
  "metadata": {
    "accelerator": "GPU",
    "colab": {
      "provenance": [],
      "include_colab_link": true
    },
    "gpuClass": "standard",
    "kernelspec": {
      "display_name": "Python 3",
      "name": "python3"
    },
    "widgets": {
      "application/vnd.jupyter.widget-state+json": {
        "327b7b2cd7f8482fbbaa00a29cc3a2a1": {
          "model_module": "@jupyter-widgets/controls",
          "model_name": "HBoxModel",
          "model_module_version": "1.5.0",
          "state": {
            "_dom_classes": [],
            "_model_module": "@jupyter-widgets/controls",
            "_model_module_version": "1.5.0",
            "_model_name": "HBoxModel",
            "_view_count": null,
            "_view_module": "@jupyter-widgets/controls",
            "_view_module_version": "1.5.0",
            "_view_name": "HBoxView",
            "box_style": "",
            "children": [
              "IPY_MODEL_e788a9a6598c485585d75158e8fcf746",
              "IPY_MODEL_65a1762beab649efba3633136282c4b1",
              "IPY_MODEL_d2fea4f257f1475d8e9b0bb3181dbf63"
            ],
            "layout": "IPY_MODEL_f5659898a97b474b934bf2eb88fb0f73"
          }
        },
        "e788a9a6598c485585d75158e8fcf746": {
          "model_module": "@jupyter-widgets/controls",
          "model_name": "HTMLModel",
          "model_module_version": "1.5.0",
          "state": {
            "_dom_classes": [],
            "_model_module": "@jupyter-widgets/controls",
            "_model_module_version": "1.5.0",
            "_model_name": "HTMLModel",
            "_view_count": null,
            "_view_module": "@jupyter-widgets/controls",
            "_view_module_version": "1.5.0",
            "_view_name": "HTMLView",
            "description": "",
            "description_tooltip": null,
            "layout": "IPY_MODEL_a5287d57f77f4710bcd560a2e54bc055",
            "placeholder": "​",
            "style": "IPY_MODEL_ec1dabc06aa7488b96e9ac43bcdf46cb",
            "value": "100%"
          }
        },
        "65a1762beab649efba3633136282c4b1": {
          "model_module": "@jupyter-widgets/controls",
          "model_name": "FloatProgressModel",
          "model_module_version": "1.5.0",
          "state": {
            "_dom_classes": [],
            "_model_module": "@jupyter-widgets/controls",
            "_model_module_version": "1.5.0",
            "_model_name": "FloatProgressModel",
            "_view_count": null,
            "_view_module": "@jupyter-widgets/controls",
            "_view_module_version": "1.5.0",
            "_view_name": "ProgressView",
            "bar_style": "success",
            "description": "",
            "description_tooltip": null,
            "layout": "IPY_MODEL_51b8d3013cda4cf8984398e2e84d46e7",
            "max": 9912422,
            "min": 0,
            "orientation": "horizontal",
            "style": "IPY_MODEL_622040766cf74e09ade809ab23b199eb",
            "value": 9912422
          }
        },
        "d2fea4f257f1475d8e9b0bb3181dbf63": {
          "model_module": "@jupyter-widgets/controls",
          "model_name": "HTMLModel",
          "model_module_version": "1.5.0",
          "state": {
            "_dom_classes": [],
            "_model_module": "@jupyter-widgets/controls",
            "_model_module_version": "1.5.0",
            "_model_name": "HTMLModel",
            "_view_count": null,
            "_view_module": "@jupyter-widgets/controls",
            "_view_module_version": "1.5.0",
            "_view_name": "HTMLView",
            "description": "",
            "description_tooltip": null,
            "layout": "IPY_MODEL_a9436a9f00c741f6a0c620c359a2aaaf",
            "placeholder": "​",
            "style": "IPY_MODEL_d1682af5d47541d49cbbff20b6ef18f8",
            "value": " 9912422/9912422 [00:00&lt;00:00, 132912553.33it/s]"
          }
        },
        "f5659898a97b474b934bf2eb88fb0f73": {
          "model_module": "@jupyter-widgets/base",
          "model_name": "LayoutModel",
          "model_module_version": "1.2.0",
          "state": {
            "_model_module": "@jupyter-widgets/base",
            "_model_module_version": "1.2.0",
            "_model_name": "LayoutModel",
            "_view_count": null,
            "_view_module": "@jupyter-widgets/base",
            "_view_module_version": "1.2.0",
            "_view_name": "LayoutView",
            "align_content": null,
            "align_items": null,
            "align_self": null,
            "border": null,
            "bottom": null,
            "display": null,
            "flex": null,
            "flex_flow": null,
            "grid_area": null,
            "grid_auto_columns": null,
            "grid_auto_flow": null,
            "grid_auto_rows": null,
            "grid_column": null,
            "grid_gap": null,
            "grid_row": null,
            "grid_template_areas": null,
            "grid_template_columns": null,
            "grid_template_rows": null,
            "height": null,
            "justify_content": null,
            "justify_items": null,
            "left": null,
            "margin": null,
            "max_height": null,
            "max_width": null,
            "min_height": null,
            "min_width": null,
            "object_fit": null,
            "object_position": null,
            "order": null,
            "overflow": null,
            "overflow_x": null,
            "overflow_y": null,
            "padding": null,
            "right": null,
            "top": null,
            "visibility": null,
            "width": null
          }
        },
        "a5287d57f77f4710bcd560a2e54bc055": {
          "model_module": "@jupyter-widgets/base",
          "model_name": "LayoutModel",
          "model_module_version": "1.2.0",
          "state": {
            "_model_module": "@jupyter-widgets/base",
            "_model_module_version": "1.2.0",
            "_model_name": "LayoutModel",
            "_view_count": null,
            "_view_module": "@jupyter-widgets/base",
            "_view_module_version": "1.2.0",
            "_view_name": "LayoutView",
            "align_content": null,
            "align_items": null,
            "align_self": null,
            "border": null,
            "bottom": null,
            "display": null,
            "flex": null,
            "flex_flow": null,
            "grid_area": null,
            "grid_auto_columns": null,
            "grid_auto_flow": null,
            "grid_auto_rows": null,
            "grid_column": null,
            "grid_gap": null,
            "grid_row": null,
            "grid_template_areas": null,
            "grid_template_columns": null,
            "grid_template_rows": null,
            "height": null,
            "justify_content": null,
            "justify_items": null,
            "left": null,
            "margin": null,
            "max_height": null,
            "max_width": null,
            "min_height": null,
            "min_width": null,
            "object_fit": null,
            "object_position": null,
            "order": null,
            "overflow": null,
            "overflow_x": null,
            "overflow_y": null,
            "padding": null,
            "right": null,
            "top": null,
            "visibility": null,
            "width": null
          }
        },
        "ec1dabc06aa7488b96e9ac43bcdf46cb": {
          "model_module": "@jupyter-widgets/controls",
          "model_name": "DescriptionStyleModel",
          "model_module_version": "1.5.0",
          "state": {
            "_model_module": "@jupyter-widgets/controls",
            "_model_module_version": "1.5.0",
            "_model_name": "DescriptionStyleModel",
            "_view_count": null,
            "_view_module": "@jupyter-widgets/base",
            "_view_module_version": "1.2.0",
            "_view_name": "StyleView",
            "description_width": ""
          }
        },
        "51b8d3013cda4cf8984398e2e84d46e7": {
          "model_module": "@jupyter-widgets/base",
          "model_name": "LayoutModel",
          "model_module_version": "1.2.0",
          "state": {
            "_model_module": "@jupyter-widgets/base",
            "_model_module_version": "1.2.0",
            "_model_name": "LayoutModel",
            "_view_count": null,
            "_view_module": "@jupyter-widgets/base",
            "_view_module_version": "1.2.0",
            "_view_name": "LayoutView",
            "align_content": null,
            "align_items": null,
            "align_self": null,
            "border": null,
            "bottom": null,
            "display": null,
            "flex": null,
            "flex_flow": null,
            "grid_area": null,
            "grid_auto_columns": null,
            "grid_auto_flow": null,
            "grid_auto_rows": null,
            "grid_column": null,
            "grid_gap": null,
            "grid_row": null,
            "grid_template_areas": null,
            "grid_template_columns": null,
            "grid_template_rows": null,
            "height": null,
            "justify_content": null,
            "justify_items": null,
            "left": null,
            "margin": null,
            "max_height": null,
            "max_width": null,
            "min_height": null,
            "min_width": null,
            "object_fit": null,
            "object_position": null,
            "order": null,
            "overflow": null,
            "overflow_x": null,
            "overflow_y": null,
            "padding": null,
            "right": null,
            "top": null,
            "visibility": null,
            "width": null
          }
        },
        "622040766cf74e09ade809ab23b199eb": {
          "model_module": "@jupyter-widgets/controls",
          "model_name": "ProgressStyleModel",
          "model_module_version": "1.5.0",
          "state": {
            "_model_module": "@jupyter-widgets/controls",
            "_model_module_version": "1.5.0",
            "_model_name": "ProgressStyleModel",
            "_view_count": null,
            "_view_module": "@jupyter-widgets/base",
            "_view_module_version": "1.2.0",
            "_view_name": "StyleView",
            "bar_color": null,
            "description_width": ""
          }
        },
        "a9436a9f00c741f6a0c620c359a2aaaf": {
          "model_module": "@jupyter-widgets/base",
          "model_name": "LayoutModel",
          "model_module_version": "1.2.0",
          "state": {
            "_model_module": "@jupyter-widgets/base",
            "_model_module_version": "1.2.0",
            "_model_name": "LayoutModel",
            "_view_count": null,
            "_view_module": "@jupyter-widgets/base",
            "_view_module_version": "1.2.0",
            "_view_name": "LayoutView",
            "align_content": null,
            "align_items": null,
            "align_self": null,
            "border": null,
            "bottom": null,
            "display": null,
            "flex": null,
            "flex_flow": null,
            "grid_area": null,
            "grid_auto_columns": null,
            "grid_auto_flow": null,
            "grid_auto_rows": null,
            "grid_column": null,
            "grid_gap": null,
            "grid_row": null,
            "grid_template_areas": null,
            "grid_template_columns": null,
            "grid_template_rows": null,
            "height": null,
            "justify_content": null,
            "justify_items": null,
            "left": null,
            "margin": null,
            "max_height": null,
            "max_width": null,
            "min_height": null,
            "min_width": null,
            "object_fit": null,
            "object_position": null,
            "order": null,
            "overflow": null,
            "overflow_x": null,
            "overflow_y": null,
            "padding": null,
            "right": null,
            "top": null,
            "visibility": null,
            "width": null
          }
        },
        "d1682af5d47541d49cbbff20b6ef18f8": {
          "model_module": "@jupyter-widgets/controls",
          "model_name": "DescriptionStyleModel",
          "model_module_version": "1.5.0",
          "state": {
            "_model_module": "@jupyter-widgets/controls",
            "_model_module_version": "1.5.0",
            "_model_name": "DescriptionStyleModel",
            "_view_count": null,
            "_view_module": "@jupyter-widgets/base",
            "_view_module_version": "1.2.0",
            "_view_name": "StyleView",
            "description_width": ""
          }
        },
        "08db579fc2d34563b0c88a053ffa1caf": {
          "model_module": "@jupyter-widgets/controls",
          "model_name": "HBoxModel",
          "model_module_version": "1.5.0",
          "state": {
            "_dom_classes": [],
            "_model_module": "@jupyter-widgets/controls",
            "_model_module_version": "1.5.0",
            "_model_name": "HBoxModel",
            "_view_count": null,
            "_view_module": "@jupyter-widgets/controls",
            "_view_module_version": "1.5.0",
            "_view_name": "HBoxView",
            "box_style": "",
            "children": [
              "IPY_MODEL_10762c2c368e400cb96a04b0fb6cb061",
              "IPY_MODEL_86693b84efc44d438707d8dc76a4cd8a",
              "IPY_MODEL_0e83647bfd2e4cc589572fd35d6ac958"
            ],
            "layout": "IPY_MODEL_a09f3c27eb7b4904b8b142807cfd39f4"
          }
        },
        "10762c2c368e400cb96a04b0fb6cb061": {
          "model_module": "@jupyter-widgets/controls",
          "model_name": "HTMLModel",
          "model_module_version": "1.5.0",
          "state": {
            "_dom_classes": [],
            "_model_module": "@jupyter-widgets/controls",
            "_model_module_version": "1.5.0",
            "_model_name": "HTMLModel",
            "_view_count": null,
            "_view_module": "@jupyter-widgets/controls",
            "_view_module_version": "1.5.0",
            "_view_name": "HTMLView",
            "description": "",
            "description_tooltip": null,
            "layout": "IPY_MODEL_5c70fc9e8cbf4c6bb0ce85a286ede334",
            "placeholder": "​",
            "style": "IPY_MODEL_501b410cbe964eeca10d9a20d8ec7c55",
            "value": "100%"
          }
        },
        "86693b84efc44d438707d8dc76a4cd8a": {
          "model_module": "@jupyter-widgets/controls",
          "model_name": "FloatProgressModel",
          "model_module_version": "1.5.0",
          "state": {
            "_dom_classes": [],
            "_model_module": "@jupyter-widgets/controls",
            "_model_module_version": "1.5.0",
            "_model_name": "FloatProgressModel",
            "_view_count": null,
            "_view_module": "@jupyter-widgets/controls",
            "_view_module_version": "1.5.0",
            "_view_name": "ProgressView",
            "bar_style": "success",
            "description": "",
            "description_tooltip": null,
            "layout": "IPY_MODEL_4d98e2db0a9b4324b9759e9a078d5a94",
            "max": 28881,
            "min": 0,
            "orientation": "horizontal",
            "style": "IPY_MODEL_ac6541c1d08d4895a2c0f5192e66a43b",
            "value": 28881
          }
        },
        "0e83647bfd2e4cc589572fd35d6ac958": {
          "model_module": "@jupyter-widgets/controls",
          "model_name": "HTMLModel",
          "model_module_version": "1.5.0",
          "state": {
            "_dom_classes": [],
            "_model_module": "@jupyter-widgets/controls",
            "_model_module_version": "1.5.0",
            "_model_name": "HTMLModel",
            "_view_count": null,
            "_view_module": "@jupyter-widgets/controls",
            "_view_module_version": "1.5.0",
            "_view_name": "HTMLView",
            "description": "",
            "description_tooltip": null,
            "layout": "IPY_MODEL_5a0eb36b3f1e42c7ace6f6467f462d0b",
            "placeholder": "​",
            "style": "IPY_MODEL_0a521c4bc35c4e9a9feaeeb18e7a4120",
            "value": " 28881/28881 [00:00&lt;00:00, 1156890.53it/s]"
          }
        },
        "a09f3c27eb7b4904b8b142807cfd39f4": {
          "model_module": "@jupyter-widgets/base",
          "model_name": "LayoutModel",
          "model_module_version": "1.2.0",
          "state": {
            "_model_module": "@jupyter-widgets/base",
            "_model_module_version": "1.2.0",
            "_model_name": "LayoutModel",
            "_view_count": null,
            "_view_module": "@jupyter-widgets/base",
            "_view_module_version": "1.2.0",
            "_view_name": "LayoutView",
            "align_content": null,
            "align_items": null,
            "align_self": null,
            "border": null,
            "bottom": null,
            "display": null,
            "flex": null,
            "flex_flow": null,
            "grid_area": null,
            "grid_auto_columns": null,
            "grid_auto_flow": null,
            "grid_auto_rows": null,
            "grid_column": null,
            "grid_gap": null,
            "grid_row": null,
            "grid_template_areas": null,
            "grid_template_columns": null,
            "grid_template_rows": null,
            "height": null,
            "justify_content": null,
            "justify_items": null,
            "left": null,
            "margin": null,
            "max_height": null,
            "max_width": null,
            "min_height": null,
            "min_width": null,
            "object_fit": null,
            "object_position": null,
            "order": null,
            "overflow": null,
            "overflow_x": null,
            "overflow_y": null,
            "padding": null,
            "right": null,
            "top": null,
            "visibility": null,
            "width": null
          }
        },
        "5c70fc9e8cbf4c6bb0ce85a286ede334": {
          "model_module": "@jupyter-widgets/base",
          "model_name": "LayoutModel",
          "model_module_version": "1.2.0",
          "state": {
            "_model_module": "@jupyter-widgets/base",
            "_model_module_version": "1.2.0",
            "_model_name": "LayoutModel",
            "_view_count": null,
            "_view_module": "@jupyter-widgets/base",
            "_view_module_version": "1.2.0",
            "_view_name": "LayoutView",
            "align_content": null,
            "align_items": null,
            "align_self": null,
            "border": null,
            "bottom": null,
            "display": null,
            "flex": null,
            "flex_flow": null,
            "grid_area": null,
            "grid_auto_columns": null,
            "grid_auto_flow": null,
            "grid_auto_rows": null,
            "grid_column": null,
            "grid_gap": null,
            "grid_row": null,
            "grid_template_areas": null,
            "grid_template_columns": null,
            "grid_template_rows": null,
            "height": null,
            "justify_content": null,
            "justify_items": null,
            "left": null,
            "margin": null,
            "max_height": null,
            "max_width": null,
            "min_height": null,
            "min_width": null,
            "object_fit": null,
            "object_position": null,
            "order": null,
            "overflow": null,
            "overflow_x": null,
            "overflow_y": null,
            "padding": null,
            "right": null,
            "top": null,
            "visibility": null,
            "width": null
          }
        },
        "501b410cbe964eeca10d9a20d8ec7c55": {
          "model_module": "@jupyter-widgets/controls",
          "model_name": "DescriptionStyleModel",
          "model_module_version": "1.5.0",
          "state": {
            "_model_module": "@jupyter-widgets/controls",
            "_model_module_version": "1.5.0",
            "_model_name": "DescriptionStyleModel",
            "_view_count": null,
            "_view_module": "@jupyter-widgets/base",
            "_view_module_version": "1.2.0",
            "_view_name": "StyleView",
            "description_width": ""
          }
        },
        "4d98e2db0a9b4324b9759e9a078d5a94": {
          "model_module": "@jupyter-widgets/base",
          "model_name": "LayoutModel",
          "model_module_version": "1.2.0",
          "state": {
            "_model_module": "@jupyter-widgets/base",
            "_model_module_version": "1.2.0",
            "_model_name": "LayoutModel",
            "_view_count": null,
            "_view_module": "@jupyter-widgets/base",
            "_view_module_version": "1.2.0",
            "_view_name": "LayoutView",
            "align_content": null,
            "align_items": null,
            "align_self": null,
            "border": null,
            "bottom": null,
            "display": null,
            "flex": null,
            "flex_flow": null,
            "grid_area": null,
            "grid_auto_columns": null,
            "grid_auto_flow": null,
            "grid_auto_rows": null,
            "grid_column": null,
            "grid_gap": null,
            "grid_row": null,
            "grid_template_areas": null,
            "grid_template_columns": null,
            "grid_template_rows": null,
            "height": null,
            "justify_content": null,
            "justify_items": null,
            "left": null,
            "margin": null,
            "max_height": null,
            "max_width": null,
            "min_height": null,
            "min_width": null,
            "object_fit": null,
            "object_position": null,
            "order": null,
            "overflow": null,
            "overflow_x": null,
            "overflow_y": null,
            "padding": null,
            "right": null,
            "top": null,
            "visibility": null,
            "width": null
          }
        },
        "ac6541c1d08d4895a2c0f5192e66a43b": {
          "model_module": "@jupyter-widgets/controls",
          "model_name": "ProgressStyleModel",
          "model_module_version": "1.5.0",
          "state": {
            "_model_module": "@jupyter-widgets/controls",
            "_model_module_version": "1.5.0",
            "_model_name": "ProgressStyleModel",
            "_view_count": null,
            "_view_module": "@jupyter-widgets/base",
            "_view_module_version": "1.2.0",
            "_view_name": "StyleView",
            "bar_color": null,
            "description_width": ""
          }
        },
        "5a0eb36b3f1e42c7ace6f6467f462d0b": {
          "model_module": "@jupyter-widgets/base",
          "model_name": "LayoutModel",
          "model_module_version": "1.2.0",
          "state": {
            "_model_module": "@jupyter-widgets/base",
            "_model_module_version": "1.2.0",
            "_model_name": "LayoutModel",
            "_view_count": null,
            "_view_module": "@jupyter-widgets/base",
            "_view_module_version": "1.2.0",
            "_view_name": "LayoutView",
            "align_content": null,
            "align_items": null,
            "align_self": null,
            "border": null,
            "bottom": null,
            "display": null,
            "flex": null,
            "flex_flow": null,
            "grid_area": null,
            "grid_auto_columns": null,
            "grid_auto_flow": null,
            "grid_auto_rows": null,
            "grid_column": null,
            "grid_gap": null,
            "grid_row": null,
            "grid_template_areas": null,
            "grid_template_columns": null,
            "grid_template_rows": null,
            "height": null,
            "justify_content": null,
            "justify_items": null,
            "left": null,
            "margin": null,
            "max_height": null,
            "max_width": null,
            "min_height": null,
            "min_width": null,
            "object_fit": null,
            "object_position": null,
            "order": null,
            "overflow": null,
            "overflow_x": null,
            "overflow_y": null,
            "padding": null,
            "right": null,
            "top": null,
            "visibility": null,
            "width": null
          }
        },
        "0a521c4bc35c4e9a9feaeeb18e7a4120": {
          "model_module": "@jupyter-widgets/controls",
          "model_name": "DescriptionStyleModel",
          "model_module_version": "1.5.0",
          "state": {
            "_model_module": "@jupyter-widgets/controls",
            "_model_module_version": "1.5.0",
            "_model_name": "DescriptionStyleModel",
            "_view_count": null,
            "_view_module": "@jupyter-widgets/base",
            "_view_module_version": "1.2.0",
            "_view_name": "StyleView",
            "description_width": ""
          }
        },
        "05caaab0ff5e4b52af735f1c3fd85bc9": {
          "model_module": "@jupyter-widgets/controls",
          "model_name": "HBoxModel",
          "model_module_version": "1.5.0",
          "state": {
            "_dom_classes": [],
            "_model_module": "@jupyter-widgets/controls",
            "_model_module_version": "1.5.0",
            "_model_name": "HBoxModel",
            "_view_count": null,
            "_view_module": "@jupyter-widgets/controls",
            "_view_module_version": "1.5.0",
            "_view_name": "HBoxView",
            "box_style": "",
            "children": [
              "IPY_MODEL_03a518661b274ca0a2eec8bac1817aed",
              "IPY_MODEL_ef934b8e02094984aaa9d6fb7165a084",
              "IPY_MODEL_bff453b6bbac41f9a5428be76672f36e"
            ],
            "layout": "IPY_MODEL_5d57779984e24437970643f0711c85c5"
          }
        },
        "03a518661b274ca0a2eec8bac1817aed": {
          "model_module": "@jupyter-widgets/controls",
          "model_name": "HTMLModel",
          "model_module_version": "1.5.0",
          "state": {
            "_dom_classes": [],
            "_model_module": "@jupyter-widgets/controls",
            "_model_module_version": "1.5.0",
            "_model_name": "HTMLModel",
            "_view_count": null,
            "_view_module": "@jupyter-widgets/controls",
            "_view_module_version": "1.5.0",
            "_view_name": "HTMLView",
            "description": "",
            "description_tooltip": null,
            "layout": "IPY_MODEL_ea900911baf84776aad90ae3e99094d7",
            "placeholder": "​",
            "style": "IPY_MODEL_f2bffd1b540f4f17b2373d245054cf6e",
            "value": "100%"
          }
        },
        "ef934b8e02094984aaa9d6fb7165a084": {
          "model_module": "@jupyter-widgets/controls",
          "model_name": "FloatProgressModel",
          "model_module_version": "1.5.0",
          "state": {
            "_dom_classes": [],
            "_model_module": "@jupyter-widgets/controls",
            "_model_module_version": "1.5.0",
            "_model_name": "FloatProgressModel",
            "_view_count": null,
            "_view_module": "@jupyter-widgets/controls",
            "_view_module_version": "1.5.0",
            "_view_name": "ProgressView",
            "bar_style": "success",
            "description": "",
            "description_tooltip": null,
            "layout": "IPY_MODEL_fe50bff41ead49ccb808d3c4cf206c69",
            "max": 1648877,
            "min": 0,
            "orientation": "horizontal",
            "style": "IPY_MODEL_b6dbe1aeb8d945ad9eb3a95793731442",
            "value": 1648877
          }
        },
        "bff453b6bbac41f9a5428be76672f36e": {
          "model_module": "@jupyter-widgets/controls",
          "model_name": "HTMLModel",
          "model_module_version": "1.5.0",
          "state": {
            "_dom_classes": [],
            "_model_module": "@jupyter-widgets/controls",
            "_model_module_version": "1.5.0",
            "_model_name": "HTMLModel",
            "_view_count": null,
            "_view_module": "@jupyter-widgets/controls",
            "_view_module_version": "1.5.0",
            "_view_name": "HTMLView",
            "description": "",
            "description_tooltip": null,
            "layout": "IPY_MODEL_6e34841a33f64e5f95218d49bc557e11",
            "placeholder": "​",
            "style": "IPY_MODEL_8a0c5bb7ae554accaef7594b561e642d",
            "value": " 1648877/1648877 [00:00&lt;00:00, 28132477.73it/s]"
          }
        },
        "5d57779984e24437970643f0711c85c5": {
          "model_module": "@jupyter-widgets/base",
          "model_name": "LayoutModel",
          "model_module_version": "1.2.0",
          "state": {
            "_model_module": "@jupyter-widgets/base",
            "_model_module_version": "1.2.0",
            "_model_name": "LayoutModel",
            "_view_count": null,
            "_view_module": "@jupyter-widgets/base",
            "_view_module_version": "1.2.0",
            "_view_name": "LayoutView",
            "align_content": null,
            "align_items": null,
            "align_self": null,
            "border": null,
            "bottom": null,
            "display": null,
            "flex": null,
            "flex_flow": null,
            "grid_area": null,
            "grid_auto_columns": null,
            "grid_auto_flow": null,
            "grid_auto_rows": null,
            "grid_column": null,
            "grid_gap": null,
            "grid_row": null,
            "grid_template_areas": null,
            "grid_template_columns": null,
            "grid_template_rows": null,
            "height": null,
            "justify_content": null,
            "justify_items": null,
            "left": null,
            "margin": null,
            "max_height": null,
            "max_width": null,
            "min_height": null,
            "min_width": null,
            "object_fit": null,
            "object_position": null,
            "order": null,
            "overflow": null,
            "overflow_x": null,
            "overflow_y": null,
            "padding": null,
            "right": null,
            "top": null,
            "visibility": null,
            "width": null
          }
        },
        "ea900911baf84776aad90ae3e99094d7": {
          "model_module": "@jupyter-widgets/base",
          "model_name": "LayoutModel",
          "model_module_version": "1.2.0",
          "state": {
            "_model_module": "@jupyter-widgets/base",
            "_model_module_version": "1.2.0",
            "_model_name": "LayoutModel",
            "_view_count": null,
            "_view_module": "@jupyter-widgets/base",
            "_view_module_version": "1.2.0",
            "_view_name": "LayoutView",
            "align_content": null,
            "align_items": null,
            "align_self": null,
            "border": null,
            "bottom": null,
            "display": null,
            "flex": null,
            "flex_flow": null,
            "grid_area": null,
            "grid_auto_columns": null,
            "grid_auto_flow": null,
            "grid_auto_rows": null,
            "grid_column": null,
            "grid_gap": null,
            "grid_row": null,
            "grid_template_areas": null,
            "grid_template_columns": null,
            "grid_template_rows": null,
            "height": null,
            "justify_content": null,
            "justify_items": null,
            "left": null,
            "margin": null,
            "max_height": null,
            "max_width": null,
            "min_height": null,
            "min_width": null,
            "object_fit": null,
            "object_position": null,
            "order": null,
            "overflow": null,
            "overflow_x": null,
            "overflow_y": null,
            "padding": null,
            "right": null,
            "top": null,
            "visibility": null,
            "width": null
          }
        },
        "f2bffd1b540f4f17b2373d245054cf6e": {
          "model_module": "@jupyter-widgets/controls",
          "model_name": "DescriptionStyleModel",
          "model_module_version": "1.5.0",
          "state": {
            "_model_module": "@jupyter-widgets/controls",
            "_model_module_version": "1.5.0",
            "_model_name": "DescriptionStyleModel",
            "_view_count": null,
            "_view_module": "@jupyter-widgets/base",
            "_view_module_version": "1.2.0",
            "_view_name": "StyleView",
            "description_width": ""
          }
        },
        "fe50bff41ead49ccb808d3c4cf206c69": {
          "model_module": "@jupyter-widgets/base",
          "model_name": "LayoutModel",
          "model_module_version": "1.2.0",
          "state": {
            "_model_module": "@jupyter-widgets/base",
            "_model_module_version": "1.2.0",
            "_model_name": "LayoutModel",
            "_view_count": null,
            "_view_module": "@jupyter-widgets/base",
            "_view_module_version": "1.2.0",
            "_view_name": "LayoutView",
            "align_content": null,
            "align_items": null,
            "align_self": null,
            "border": null,
            "bottom": null,
            "display": null,
            "flex": null,
            "flex_flow": null,
            "grid_area": null,
            "grid_auto_columns": null,
            "grid_auto_flow": null,
            "grid_auto_rows": null,
            "grid_column": null,
            "grid_gap": null,
            "grid_row": null,
            "grid_template_areas": null,
            "grid_template_columns": null,
            "grid_template_rows": null,
            "height": null,
            "justify_content": null,
            "justify_items": null,
            "left": null,
            "margin": null,
            "max_height": null,
            "max_width": null,
            "min_height": null,
            "min_width": null,
            "object_fit": null,
            "object_position": null,
            "order": null,
            "overflow": null,
            "overflow_x": null,
            "overflow_y": null,
            "padding": null,
            "right": null,
            "top": null,
            "visibility": null,
            "width": null
          }
        },
        "b6dbe1aeb8d945ad9eb3a95793731442": {
          "model_module": "@jupyter-widgets/controls",
          "model_name": "ProgressStyleModel",
          "model_module_version": "1.5.0",
          "state": {
            "_model_module": "@jupyter-widgets/controls",
            "_model_module_version": "1.5.0",
            "_model_name": "ProgressStyleModel",
            "_view_count": null,
            "_view_module": "@jupyter-widgets/base",
            "_view_module_version": "1.2.0",
            "_view_name": "StyleView",
            "bar_color": null,
            "description_width": ""
          }
        },
        "6e34841a33f64e5f95218d49bc557e11": {
          "model_module": "@jupyter-widgets/base",
          "model_name": "LayoutModel",
          "model_module_version": "1.2.0",
          "state": {
            "_model_module": "@jupyter-widgets/base",
            "_model_module_version": "1.2.0",
            "_model_name": "LayoutModel",
            "_view_count": null,
            "_view_module": "@jupyter-widgets/base",
            "_view_module_version": "1.2.0",
            "_view_name": "LayoutView",
            "align_content": null,
            "align_items": null,
            "align_self": null,
            "border": null,
            "bottom": null,
            "display": null,
            "flex": null,
            "flex_flow": null,
            "grid_area": null,
            "grid_auto_columns": null,
            "grid_auto_flow": null,
            "grid_auto_rows": null,
            "grid_column": null,
            "grid_gap": null,
            "grid_row": null,
            "grid_template_areas": null,
            "grid_template_columns": null,
            "grid_template_rows": null,
            "height": null,
            "justify_content": null,
            "justify_items": null,
            "left": null,
            "margin": null,
            "max_height": null,
            "max_width": null,
            "min_height": null,
            "min_width": null,
            "object_fit": null,
            "object_position": null,
            "order": null,
            "overflow": null,
            "overflow_x": null,
            "overflow_y": null,
            "padding": null,
            "right": null,
            "top": null,
            "visibility": null,
            "width": null
          }
        },
        "8a0c5bb7ae554accaef7594b561e642d": {
          "model_module": "@jupyter-widgets/controls",
          "model_name": "DescriptionStyleModel",
          "model_module_version": "1.5.0",
          "state": {
            "_model_module": "@jupyter-widgets/controls",
            "_model_module_version": "1.5.0",
            "_model_name": "DescriptionStyleModel",
            "_view_count": null,
            "_view_module": "@jupyter-widgets/base",
            "_view_module_version": "1.2.0",
            "_view_name": "StyleView",
            "description_width": ""
          }
        },
        "cc51733037434abb8c5217d39db7f2c6": {
          "model_module": "@jupyter-widgets/controls",
          "model_name": "HBoxModel",
          "model_module_version": "1.5.0",
          "state": {
            "_dom_classes": [],
            "_model_module": "@jupyter-widgets/controls",
            "_model_module_version": "1.5.0",
            "_model_name": "HBoxModel",
            "_view_count": null,
            "_view_module": "@jupyter-widgets/controls",
            "_view_module_version": "1.5.0",
            "_view_name": "HBoxView",
            "box_style": "",
            "children": [
              "IPY_MODEL_8ccbda12e9ab40b38e651e71767c8c0d",
              "IPY_MODEL_ae5947706de648b2a801ed0e6da0f2bf",
              "IPY_MODEL_9cd5aaa44fd94dd1934d0a0e7620de14"
            ],
            "layout": "IPY_MODEL_02ef1fb81f14423a8217a47e46ea7bdc"
          }
        },
        "8ccbda12e9ab40b38e651e71767c8c0d": {
          "model_module": "@jupyter-widgets/controls",
          "model_name": "HTMLModel",
          "model_module_version": "1.5.0",
          "state": {
            "_dom_classes": [],
            "_model_module": "@jupyter-widgets/controls",
            "_model_module_version": "1.5.0",
            "_model_name": "HTMLModel",
            "_view_count": null,
            "_view_module": "@jupyter-widgets/controls",
            "_view_module_version": "1.5.0",
            "_view_name": "HTMLView",
            "description": "",
            "description_tooltip": null,
            "layout": "IPY_MODEL_01f2787af6c54393b3e3d172dc40b541",
            "placeholder": "​",
            "style": "IPY_MODEL_77ddafafcb9d48f89dbe321ddc4e9d47",
            "value": "100%"
          }
        },
        "ae5947706de648b2a801ed0e6da0f2bf": {
          "model_module": "@jupyter-widgets/controls",
          "model_name": "FloatProgressModel",
          "model_module_version": "1.5.0",
          "state": {
            "_dom_classes": [],
            "_model_module": "@jupyter-widgets/controls",
            "_model_module_version": "1.5.0",
            "_model_name": "FloatProgressModel",
            "_view_count": null,
            "_view_module": "@jupyter-widgets/controls",
            "_view_module_version": "1.5.0",
            "_view_name": "ProgressView",
            "bar_style": "success",
            "description": "",
            "description_tooltip": null,
            "layout": "IPY_MODEL_45b8d4ba1fe44fe68bcec8d130b574fa",
            "max": 4542,
            "min": 0,
            "orientation": "horizontal",
            "style": "IPY_MODEL_35eac256a3174c49b0a4083bed1da594",
            "value": 4542
          }
        },
        "9cd5aaa44fd94dd1934d0a0e7620de14": {
          "model_module": "@jupyter-widgets/controls",
          "model_name": "HTMLModel",
          "model_module_version": "1.5.0",
          "state": {
            "_dom_classes": [],
            "_model_module": "@jupyter-widgets/controls",
            "_model_module_version": "1.5.0",
            "_model_name": "HTMLModel",
            "_view_count": null,
            "_view_module": "@jupyter-widgets/controls",
            "_view_module_version": "1.5.0",
            "_view_name": "HTMLView",
            "description": "",
            "description_tooltip": null,
            "layout": "IPY_MODEL_bab8af252e10493c83c70e84d1914f94",
            "placeholder": "​",
            "style": "IPY_MODEL_7f077085a5f640aa9f6f1cca88f7c250",
            "value": " 4542/4542 [00:00&lt;00:00, 36124.81it/s]"
          }
        },
        "02ef1fb81f14423a8217a47e46ea7bdc": {
          "model_module": "@jupyter-widgets/base",
          "model_name": "LayoutModel",
          "model_module_version": "1.2.0",
          "state": {
            "_model_module": "@jupyter-widgets/base",
            "_model_module_version": "1.2.0",
            "_model_name": "LayoutModel",
            "_view_count": null,
            "_view_module": "@jupyter-widgets/base",
            "_view_module_version": "1.2.0",
            "_view_name": "LayoutView",
            "align_content": null,
            "align_items": null,
            "align_self": null,
            "border": null,
            "bottom": null,
            "display": null,
            "flex": null,
            "flex_flow": null,
            "grid_area": null,
            "grid_auto_columns": null,
            "grid_auto_flow": null,
            "grid_auto_rows": null,
            "grid_column": null,
            "grid_gap": null,
            "grid_row": null,
            "grid_template_areas": null,
            "grid_template_columns": null,
            "grid_template_rows": null,
            "height": null,
            "justify_content": null,
            "justify_items": null,
            "left": null,
            "margin": null,
            "max_height": null,
            "max_width": null,
            "min_height": null,
            "min_width": null,
            "object_fit": null,
            "object_position": null,
            "order": null,
            "overflow": null,
            "overflow_x": null,
            "overflow_y": null,
            "padding": null,
            "right": null,
            "top": null,
            "visibility": null,
            "width": null
          }
        },
        "01f2787af6c54393b3e3d172dc40b541": {
          "model_module": "@jupyter-widgets/base",
          "model_name": "LayoutModel",
          "model_module_version": "1.2.0",
          "state": {
            "_model_module": "@jupyter-widgets/base",
            "_model_module_version": "1.2.0",
            "_model_name": "LayoutModel",
            "_view_count": null,
            "_view_module": "@jupyter-widgets/base",
            "_view_module_version": "1.2.0",
            "_view_name": "LayoutView",
            "align_content": null,
            "align_items": null,
            "align_self": null,
            "border": null,
            "bottom": null,
            "display": null,
            "flex": null,
            "flex_flow": null,
            "grid_area": null,
            "grid_auto_columns": null,
            "grid_auto_flow": null,
            "grid_auto_rows": null,
            "grid_column": null,
            "grid_gap": null,
            "grid_row": null,
            "grid_template_areas": null,
            "grid_template_columns": null,
            "grid_template_rows": null,
            "height": null,
            "justify_content": null,
            "justify_items": null,
            "left": null,
            "margin": null,
            "max_height": null,
            "max_width": null,
            "min_height": null,
            "min_width": null,
            "object_fit": null,
            "object_position": null,
            "order": null,
            "overflow": null,
            "overflow_x": null,
            "overflow_y": null,
            "padding": null,
            "right": null,
            "top": null,
            "visibility": null,
            "width": null
          }
        },
        "77ddafafcb9d48f89dbe321ddc4e9d47": {
          "model_module": "@jupyter-widgets/controls",
          "model_name": "DescriptionStyleModel",
          "model_module_version": "1.5.0",
          "state": {
            "_model_module": "@jupyter-widgets/controls",
            "_model_module_version": "1.5.0",
            "_model_name": "DescriptionStyleModel",
            "_view_count": null,
            "_view_module": "@jupyter-widgets/base",
            "_view_module_version": "1.2.0",
            "_view_name": "StyleView",
            "description_width": ""
          }
        },
        "45b8d4ba1fe44fe68bcec8d130b574fa": {
          "model_module": "@jupyter-widgets/base",
          "model_name": "LayoutModel",
          "model_module_version": "1.2.0",
          "state": {
            "_model_module": "@jupyter-widgets/base",
            "_model_module_version": "1.2.0",
            "_model_name": "LayoutModel",
            "_view_count": null,
            "_view_module": "@jupyter-widgets/base",
            "_view_module_version": "1.2.0",
            "_view_name": "LayoutView",
            "align_content": null,
            "align_items": null,
            "align_self": null,
            "border": null,
            "bottom": null,
            "display": null,
            "flex": null,
            "flex_flow": null,
            "grid_area": null,
            "grid_auto_columns": null,
            "grid_auto_flow": null,
            "grid_auto_rows": null,
            "grid_column": null,
            "grid_gap": null,
            "grid_row": null,
            "grid_template_areas": null,
            "grid_template_columns": null,
            "grid_template_rows": null,
            "height": null,
            "justify_content": null,
            "justify_items": null,
            "left": null,
            "margin": null,
            "max_height": null,
            "max_width": null,
            "min_height": null,
            "min_width": null,
            "object_fit": null,
            "object_position": null,
            "order": null,
            "overflow": null,
            "overflow_x": null,
            "overflow_y": null,
            "padding": null,
            "right": null,
            "top": null,
            "visibility": null,
            "width": null
          }
        },
        "35eac256a3174c49b0a4083bed1da594": {
          "model_module": "@jupyter-widgets/controls",
          "model_name": "ProgressStyleModel",
          "model_module_version": "1.5.0",
          "state": {
            "_model_module": "@jupyter-widgets/controls",
            "_model_module_version": "1.5.0",
            "_model_name": "ProgressStyleModel",
            "_view_count": null,
            "_view_module": "@jupyter-widgets/base",
            "_view_module_version": "1.2.0",
            "_view_name": "StyleView",
            "bar_color": null,
            "description_width": ""
          }
        },
        "bab8af252e10493c83c70e84d1914f94": {
          "model_module": "@jupyter-widgets/base",
          "model_name": "LayoutModel",
          "model_module_version": "1.2.0",
          "state": {
            "_model_module": "@jupyter-widgets/base",
            "_model_module_version": "1.2.0",
            "_model_name": "LayoutModel",
            "_view_count": null,
            "_view_module": "@jupyter-widgets/base",
            "_view_module_version": "1.2.0",
            "_view_name": "LayoutView",
            "align_content": null,
            "align_items": null,
            "align_self": null,
            "border": null,
            "bottom": null,
            "display": null,
            "flex": null,
            "flex_flow": null,
            "grid_area": null,
            "grid_auto_columns": null,
            "grid_auto_flow": null,
            "grid_auto_rows": null,
            "grid_column": null,
            "grid_gap": null,
            "grid_row": null,
            "grid_template_areas": null,
            "grid_template_columns": null,
            "grid_template_rows": null,
            "height": null,
            "justify_content": null,
            "justify_items": null,
            "left": null,
            "margin": null,
            "max_height": null,
            "max_width": null,
            "min_height": null,
            "min_width": null,
            "object_fit": null,
            "object_position": null,
            "order": null,
            "overflow": null,
            "overflow_x": null,
            "overflow_y": null,
            "padding": null,
            "right": null,
            "top": null,
            "visibility": null,
            "width": null
          }
        },
        "7f077085a5f640aa9f6f1cca88f7c250": {
          "model_module": "@jupyter-widgets/controls",
          "model_name": "DescriptionStyleModel",
          "model_module_version": "1.5.0",
          "state": {
            "_model_module": "@jupyter-widgets/controls",
            "_model_module_version": "1.5.0",
            "_model_name": "DescriptionStyleModel",
            "_view_count": null,
            "_view_module": "@jupyter-widgets/base",
            "_view_module_version": "1.2.0",
            "_view_name": "StyleView",
            "description_width": ""
          }
        }
      }
    }
  },
  "nbformat": 4,
  "nbformat_minor": 0
}
